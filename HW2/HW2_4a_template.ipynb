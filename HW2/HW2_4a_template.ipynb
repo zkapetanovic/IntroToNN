{
 "cells": [
  {
   "cell_type": "markdown",
   "metadata": {},
   "source": [
    "<p style=\"font-size:20px\">You may need to install <b>tqdm</b> and <b>cv2</b>. Simply do <b>conda install tqdm</b> and <b>conda install cv2</b> in your virtual environment. You are also free to use other tools to fetch the image files and resize them.</p>"
   ]
  },
  {
   "cell_type": "code",
   "execution_count": 1,
   "metadata": {},
   "outputs": [],
   "source": [
    "import numpy as np\n",
    "import matplotlib.pyplot as plt\n",
    "from random import shuffle\n",
    "from tqdm import tqdm\n",
    "import pickle\n",
    "import os\n",
    "import cv2\n",
    "import timeit"
   ]
  },
  {
   "cell_type": "markdown",
   "metadata": {},
   "source": [
    "<p style=\"font-size:20px\">In Problem 4a, you will preprocess the dogs and cats data and save them into \"Pickle\" files for later use."
   ]
  },
  {
   "cell_type": "code",
   "execution_count": 2,
   "metadata": {},
   "outputs": [],
   "source": [
    "train_dir = 'catdog/train/'\n",
    "test_dir = 'catdog/test'"
   ]
  },
  {
   "cell_type": "markdown",
   "metadata": {},
   "source": [
    "<p style=\"font-size:20px\">Step 1: Kaggle does not provide a file that contains the labels. So we need to create labels from the training file."
   ]
  },
  {
   "cell_type": "code",
   "execution_count": 3,
   "metadata": {},
   "outputs": [],
   "source": [
    "\"\"\"\n",
    "a function to return the label of a image\n",
    "input: \n",
    "    image\n",
    "return:\n",
    "    if the image is cat, return [1,0]\n",
    "    if the image is dog, return [0,1]\n",
    "\"\"\"\n",
    "def label_img(img):\n",
    "    label = img.split('.')[-3]\n",
    "    \n",
    "    if label == 'cat':\n",
    "        return [1,0]\n",
    "    elif label == 'dog':\n",
    "        return [0,1]\n"
   ]
  },
  {
   "cell_type": "markdown",
   "metadata": {},
   "source": [
    "<p style=\"font-size:20px\">Step 2: define a function to fetch all images from the training directory and return a <b>list</b> that every element contains two <b>Numpy array</b>:image and its label."
   ]
  },
  {
   "cell_type": "code",
   "execution_count": 14,
   "metadata": {},
   "outputs": [],
   "source": [
    "\"\"\"\n",
    "Hint 1: use tqdm to fetch file\n",
    "    for file in tqdm(os.listdir(directory)):\n",
    "        ...\n",
    "\n",
    "Hint 2: use cv2 to read file\n",
    "    cv2.imread(path)\n",
    "\n",
    "Hint 3: use cv2 to resize img\n",
    "    cv2.resize(img, (size, size))\n",
    "\"\"\"\n",
    "def create_train_data():\n",
    "    train_data = []\n",
    "    \n",
    "    for image in tqdm(os.listdir(train_dir)):\n",
    "        ###get label of img###\n",
    "        label = label_img(image)\n",
    "        path = os.path.join(train_dir, image)\n",
    "        \n",
    "        ###use cv2 to read the img and resize the it to (227 x 227)###\n",
    "        image = cv2.imread(path, cv2.IMREAD_COLOR)\n",
    "        image = cv2.resize(image, (227,227))\n",
    "        \n",
    "        ###append the img and label to the list###\n",
    "        train_data.append([np.array(image), np.array(label)])\n",
    "    \n",
    "    ###shuffle training data###\n",
    "    shuffle(train_data)\n",
    "    \n",
    "    ###return training data###\n",
    "    return train_data"
   ]
  },
  {
   "cell_type": "markdown",
   "metadata": {},
   "source": [
    "<p style=\"font-size:20px\">Step 3: define a similar function to fetch all test data. You don't need to label them."
   ]
  },
  {
   "cell_type": "code",
   "execution_count": 15,
   "metadata": {},
   "outputs": [],
   "source": [
    "def create_test_data():\n",
    "    test_data = []\n",
    "    \n",
    "    for image in tqdm(os.listdir(test_dir)):\n",
    "        path = os.path.join(test_dir, image)\n",
    "        i_n = image.split('.')[0]\n",
    "        \n",
    "        image = cv2.imread(path, cv2.IMREAD_COLOR)\n",
    "        image = cv2.resize(image, (227, 227))\n",
    "        \n",
    "        test_data.append([np.array(image), i_n])\n",
    "        \n",
    "    shuffle(test_data)\n",
    "    \n",
    "    return test_data\n",
    "        "
   ]
  },
  {
   "cell_type": "markdown",
   "metadata": {},
   "source": [
    "<p style=\"font-size:20px\">Step 4: create your train and test data</p>"
   ]
  },
  {
   "cell_type": "code",
   "execution_count": 16,
   "metadata": {},
   "outputs": [
    {
     "name": "stderr",
     "output_type": "stream",
     "text": [
      "100%|██████████| 25000/25000 [01:14<00:00, 337.05it/s]\n",
      "100%|██████████| 12500/12500 [00:38<00:00, 322.64it/s]\n"
     ]
    }
   ],
   "source": [
    "train_data = create_train_data()\n",
    "test_data = create_test_data()"
   ]
  },
  {
   "cell_type": "markdown",
   "metadata": {},
   "source": [
    "<p style=\"font-size:20px\"> You can visualize the image using plt.imshow()"
   ]
  },
  {
   "cell_type": "markdown",
   "metadata": {},
   "source": [
    "<p style=\"font-size:20px\">Step 5: Reshape all images to have shape (#, 227, 227, 3). Use 500 training data as your validation set."
   ]
  },
  {
   "cell_type": "code",
   "execution_count": 17,
   "metadata": {},
   "outputs": [],
   "source": [
    "train = train_data[:-500]\n",
    "valid = train_data[-500:]\n",
    "\n",
    "x_train = np.array([i[0] for i in train]).reshape(len(train), 227, 227, 3)\n",
    "y_train = np.array([i[1] for i in train])\n",
    "\n",
    "x_valid = np.array([i[0] for i in valid]).reshape(len(valid), 227, 227, 3)\n",
    "y_valid = np.array([i[1] for i in valid])\n",
    "\n",
    "x_test = np.array([i[0] for i in test_data]).reshape(len(test_data), 227, 227, 3)\n",
    "y_test = np.array([i[1] for i in test_data])"
   ]
  },
  {
   "cell_type": "markdown",
   "metadata": {},
   "source": [
    "<p style=\"font-size:20px\">Step 6: Save training data, validation data and testing data as Pickle object</p>\n",
    "<p style=\"font-size:20px\">Note: You can't save all training data into one file because it has several Gigabytes. Separate your data wisely and save them into different files</p>"
   ]
  },
  {
   "cell_type": "code",
   "execution_count": null,
   "metadata": {},
   "outputs": [],
   "source": [
    "pickle.dump((x_train, y_train), open('catdog_train_data.p', 'wb'))\n",
    "pickle.dump((x_test, y_test), open('catdog_test_data.p', 'wb'))\n",
    "pickle.dump((x_valid, y_valid), open('catdog_valid_data.p', 'wb'))"
   ]
  }
 ],
 "metadata": {
  "kernelspec": {
   "display_name": "Python 3",
   "language": "python",
   "name": "python3"
  },
  "language_info": {
   "codemirror_mode": {
    "name": "ipython",
    "version": 3
   },
   "file_extension": ".py",
   "mimetype": "text/x-python",
   "name": "python",
   "nbconvert_exporter": "python",
   "pygments_lexer": "ipython3",
   "version": "3.7.2"
  }
 },
 "nbformat": 4,
 "nbformat_minor": 2
}
