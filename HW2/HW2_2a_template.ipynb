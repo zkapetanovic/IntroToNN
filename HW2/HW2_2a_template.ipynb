{
 "cells": [
  {
   "cell_type": "code",
   "execution_count": 1,
   "metadata": {},
   "outputs": [],
   "source": [
    "import pickle\n",
    "import numpy as np\n",
    "import matplotlib.pyplot as plt\n",
    "import load_cifar"
   ]
  },
  {
   "cell_type": "markdown",
   "metadata": {},
   "source": [
    "<p style=\"font-size:20px\">You will define the preprocessing functions in <b>load_cifar.py</b>. Once you are done, you can verify the functions in this template and prepare your data well.</p>"
   ]
  },
  {
   "cell_type": "code",
   "execution_count": 2,
   "metadata": {},
   "outputs": [],
   "source": [
    "#define your folder directory\n",
    "folder_path = 'cifar-10-batches-py/'"
   ]
  },
  {
   "cell_type": "markdown",
   "metadata": {},
   "source": [
    "<h1>load data</h1>\n",
    "<p style=\"font-size:20px\">Check your functinons load_training_batch and load_testing_batch function are correct."
   ]
  },
  {
   "cell_type": "code",
   "execution_count": 17,
   "metadata": {},
   "outputs": [
    {
     "name": "stdout",
     "output_type": "stream",
     "text": [
      "Loading File: cifar-10-batches-py/data_batch_1\n",
      "dict_keys([b'batch_label', b'labels', b'data', b'filenames'])\n",
      "(10000, 3072)\n",
      "10000\n"
     ]
    }
   ],
   "source": [
    "#######example: load the data_batch_1 , FEEL FREE TO CHANGE #######\n",
    "\n",
    "###load batch using pickle###\n",
    "batch_1 = load_cifar.load_training_batch(folder_path,1)\n",
    "type(batch_1)\n",
    "\n",
    "######VERIFY THE KEYS, SHAPE OF EACH BATCH #####\n",
    "print(batch_1.keys())\n",
    "#make sure you see the keys are ['batch_label','labels','data','filenames']\n",
    "\n",
    "features_1 = batch_1[b'data']\n",
    "print(features_1.shape)\n",
    "#you should see the shape is (10000,3072)\n",
    "\n",
    "labels_1 = batch_1[b'labels']\n",
    "print(len(labels_1))\n",
    "#the length of labels_1 should be 10000"
   ]
  },
  {
   "cell_type": "markdown",
   "metadata": {},
   "source": [
    "<h1>features reshape</h1>\n",
    "<p style=\"font-size:20px\">Verify features_reshape() function."
   ]
  },
  {
   "cell_type": "code",
   "execution_count": 18,
   "metadata": {},
   "outputs": [
    {
     "name": "stdout",
     "output_type": "stream",
     "text": [
      "(10000, 32, 32, 3)\n"
     ]
    }
   ],
   "source": [
    "######example: reshape the features of batch_1 , FEEL FREE TO CHANGE#####\n",
    "features_1 = load_cifar.features_reshape(features_1)\n",
    "print(features_1.shape)\n",
    "#you should see the shape is (10000,32,32,3)\n",
    "\n"
   ]
  },
  {
   "cell_type": "markdown",
   "metadata": {},
   "source": [
    "<h1>display data stat (optional)</h1>\n",
    "<p style=\"font-size:20px\">If you implement this function, you could see the stats of specific batch data and also you can visualize specific data image</p>"
   ]
  },
  {
   "cell_type": "code",
   "execution_count": null,
   "metadata": {},
   "outputs": [],
   "source": [
    "#check the 7000 example of batch_3, you should see an \"airplane\"\n",
    "data_id = 7000\n",
    "batch_id = 3\n",
    "display_data_stat(folder_path,batch_id,data_id)"
   ]
  },
  {
   "cell_type": "markdown",
   "metadata": {},
   "source": [
    "<h1>Run preprocess data function</h1>\n",
    "<p style=\"font-size:20px\">This functions will load all training and testing batches, separate the validation set, and save them as \"Pickle\" objects</p>"
   ]
  },
  {
   "cell_type": "code",
   "execution_count": 3,
   "metadata": {},
   "outputs": [
    {
     "name": "stdout",
     "output_type": "stream",
     "text": [
      "Loading File: cifar-10-batches-py/data_batch_1\n",
      "Loading File: cifar-10-batches-py/data_batch_2\n",
      "Loading File: cifar-10-batches-py/data_batch_3\n",
      "Loading File: cifar-10-batches-py/data_batch_4\n",
      "Loading File: cifar-10-batches-py/data_batch_5\n"
     ]
    }
   ],
   "source": [
    "load_cifar.preprocess_data(folder_path)"
   ]
  },
  {
   "cell_type": "markdown",
   "metadata": {},
   "source": [
    "<h1>load preprocessed training,validation and testing data</h1>\n",
    "<p style=\"font-size:20px\">Check the shape of your preprocessed data files</p>"
   ]
  },
  {
   "cell_type": "code",
   "execution_count": 4,
   "metadata": {},
   "outputs": [],
   "source": [
    "#### EXAMPLE, FEEL FREE TO CHANGE #####\n",
    "valid_features, valid_labels = pickle.load(open('preprocessed_validation.p','rb'))\n",
    "training_features,training_labels = pickle.load(open('preprocessed_batch_1.p','rb'))\n",
    "test_features, test_labels = pickle.load(open('preprocessed_training.p','rb'))"
   ]
  },
  {
   "cell_type": "code",
   "execution_count": 5,
   "metadata": {},
   "outputs": [
    {
     "name": "stdout",
     "output_type": "stream",
     "text": [
      "(9000, 32, 32, 3)\n",
      "(10000, 32, 32, 3)\n"
     ]
    }
   ],
   "source": [
    "#check the shape of data and labels, please make sure there is no error\n",
    "#before you implement your neural network.\n",
    "print(training_features.shape)\n",
    "print(test_features.shape)"
   ]
  },
  {
   "cell_type": "code",
   "execution_count": 6,
   "metadata": {},
   "outputs": [
    {
     "name": "stdout",
     "output_type": "stream",
     "text": [
      "(9000, 10)\n"
     ]
    }
   ],
   "source": [
    "print(training_labels.shape)"
   ]
  },
  {
   "cell_type": "code",
   "execution_count": null,
   "metadata": {},
   "outputs": [],
   "source": []
  }
 ],
 "metadata": {
  "kernelspec": {
   "display_name": "Python 3",
   "language": "python",
   "name": "python3"
  },
  "language_info": {
   "codemirror_mode": {
    "name": "ipython",
    "version": 3
   },
   "file_extension": ".py",
   "mimetype": "text/x-python",
   "name": "python",
   "nbconvert_exporter": "python",
   "pygments_lexer": "ipython3",
   "version": "3.7.2"
  }
 },
 "nbformat": 4,
 "nbformat_minor": 2
}
