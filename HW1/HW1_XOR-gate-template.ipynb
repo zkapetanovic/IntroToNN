{
 "cells": [
  {
   "cell_type": "code",
   "execution_count": 1,
   "metadata": {},
   "outputs": [],
   "source": [
    "import tensorflow as tf\n",
    "import numpy as np\n",
    "import matplotlib.pyplot as plt\n",
    "\n",
    "import os\n",
    "os.environ['KMP_DUPLICATE_LIB_OK']='True'\n",
    "\n"
   ]
  },
  {
   "cell_type": "markdown",
   "metadata": {},
   "source": [
    "<h2>Define Hyper-parameters</h2>"
   ]
  },
  {
   "cell_type": "code",
   "execution_count": 2,
   "metadata": {},
   "outputs": [],
   "source": [
    "# Learning rate\n",
    "lr = 0.01\n",
    "\n",
    "# Number of training steps\n",
    "num_steps = 5\n",
    "\n",
    "# Network Parameters\n",
    "n_hidden = 2 # number of nodes in the hidden layer\n",
    "num_inputs = 2\n",
    "num_classes = 1"
   ]
  },
  {
   "cell_type": "markdown",
   "metadata": {},
   "source": [
    "<h2>Define your input data and expected labels</h2>"
   ]
  },
  {
   "cell_type": "code",
   "execution_count": 24,
   "metadata": {},
   "outputs": [],
   "source": [
    "# Define input data\n",
    "x = np.array([[0,0], [0,1], [1,0], [1,1]])\n",
    "x_t = np.array([[0,1], [0,0], [1,1], [1,0]])\n",
    "# Define ouput data\n",
    "y = np.array([0,1,1,0])\n",
    "y = np.reshape(y, [4,1])\n",
    "\n",
    "y_t = np.array([1,0,0,1])\n",
    "y_t = np.reshape(y_t, [4,1])"
   ]
  },
  {
   "cell_type": "markdown",
   "metadata": {},
   "source": [
    "<h2>Define placeholder and Variables</h2>"
   ]
  },
  {
   "cell_type": "code",
   "execution_count": 25,
   "metadata": {},
   "outputs": [],
   "source": [
    "tf.reset_default_graph()\n",
    "\n",
    "# Define placeholder nodes\n",
    "X = tf.placeholder(tf.float32, shape=[4,2],name='X')\n",
    "Y = tf.placeholder(tf.float32, shape=[4,1],name='Y')\n",
    "\n",
    "# Define weights\n",
    "W = tf.Variable(tf.random_normal([num_inputs, n_hidden]),tf.float32,name='W')\n",
    "Wout = tf.Variable(tf.random_normal([n_hidden, num_classes]),tf.float32,name='Wout')\n",
    "\n",
    "# Define bias\n",
    "b = tf.Variable(tf.zeros(shape=[n_hidden]),tf.float32,name='b')\n",
    "bout = tf.Variable(tf.zeros(shape=[num_classes]),tf.float32,name='bout')\n"
   ]
  },
  {
   "cell_type": "markdown",
   "metadata": {},
   "source": [
    "<h2>Define the cost function</h2>"
   ]
  },
  {
   "cell_type": "code",
   "execution_count": 26,
   "metadata": {},
   "outputs": [],
   "source": [
    "# Define the neural net model\n",
    "layer = tf.add(tf.matmul(X, W), b)\n",
    "out = tf.add(tf.matmul(layer, Wout), bout)\n",
    "\n",
    "# Predicted labels\n",
    "logits = tf.sigmoid(out)\n",
    "\n",
    "# Define loss\n",
    "loss = tf.reduce_mean(tf.nn.softmax_cross_entropy_with_logits_v2(logits=logits, labels=Y), name='loss')\n",
    "loss = -tf.reduce_sum(y*tf.log(logits)+(1-Y)*tf.log(1-logits),axis = 1)\n",
    "\n",
    "# Define optimizer\n",
    "optimizer = tf.train.GradientDescentOptimizer(learning_rate=lr)\n",
    "train_op = optimizer.minimize(loss)\n",
    "\n",
    "# Initialize the variables\n",
    "init = tf.global_variables_initializer()\n",
    "\n",
    "# Compare the predicted labels with true labels\n",
    "#correct_pred = tf.equal(tf.argmax(logits,1), tf.argmax(Y,1))\n",
    "correct_pred = tf.equal(tf.cast(logits>0, tf.float32), Y)\n",
    "\n",
    "# Compute the accuracy by taking the average\n",
    "accuracy = tf.reduce_mean(tf.cast(correct_pred, tf.float32),name='accuracy')\n",
    "\n"
   ]
  },
  {
   "cell_type": "markdown",
   "metadata": {},
   "source": [
    "<h2>Define the neural network</h2>"
   ]
  },
  {
   "cell_type": "code",
   "execution_count": 27,
   "metadata": {
    "scrolled": false
   },
   "outputs": [
    {
     "name": "stdout",
     "output_type": "stream",
     "text": [
      "step 0, Accuracy = 0.500\n",
      "step 1, Accuracy = 0.500\n",
      "step 2, Accuracy = 0.500\n",
      "step 3, Accuracy = 0.500\n",
      "step 4, Accuracy = 0.500\n",
      "('Testing Accuracy:', 0.5)\n"
     ]
    }
   ],
   "source": [
    "with tf.Session() as sess:\n",
    "    sess.run(init)\n",
    "    \n",
    "    for i in range(num_steps):\n",
    "        # Fetch batch\n",
    "        #batch_x, batch_y = x,y\n",
    "        \n",
    "        # Run Optimization\n",
    "        sess.run(train_op, feed_dict={X:x, Y:y})\n",
    "        \n",
    "        if i % 1 == 0:\n",
    "            acc = sess.run(accuracy, feed_dict={X:x, Y:y})\n",
    "            l = sess.run(loss, feed_dict={X:x, Y:y})\n",
    "            print(\"step \" + str(i) + \", Accuracy = {:.3f}\".format(acc))\n",
    "    W = np.squeeze(sess.run(Wout))\n",
    "    b = np.squeeze(sess.run(bout))            \n",
    "    print(\"Testing Accuracy:\", sess.run(accuracy, feed_dict={X:x_t, Y:y_t}))"
   ]
  },
  {
   "cell_type": "code",
   "execution_count": 28,
   "metadata": {},
   "outputs": [
    {
     "name": "stdout",
     "output_type": "stream",
     "text": [
      "[ 0.8846463 -0.6495183]\n",
      "-0.020959366\n",
      "[[0 0]\n",
      " [0 1]\n",
      " [1 0]\n",
      " [1 1]]\n"
     ]
    }
   ],
   "source": [
    "print(W)\n",
    "print(b)\n",
    "print(x)"
   ]
  },
  {
   "cell_type": "markdown",
   "metadata": {},
   "source": [
    "<h2>Plot</h2>"
   ]
  },
  {
   "cell_type": "code",
   "execution_count": 29,
   "metadata": {},
   "outputs": [],
   "source": [
    "plot_x = np.array([np.min(x[:, 0] - 0.2), np.max(x[:, 1]+0.2)])\n",
    "plot_y = 1 / W[1] * (-W[0] * plot_x - b)"
   ]
  },
  {
   "cell_type": "code",
   "execution_count": 30,
   "metadata": {},
   "outputs": [
    {
     "data": {
      "image/png": "[encoded data removed]",
      "text/plain": [
       "<Figure size 432x288 with 1 Axes>"
      ]
     },
     "metadata": {
      "needs_background": "light"
     },
     "output_type": "display_data"
    }
   ],
   "source": [
    "plt.scatter(x[:, 0], x[:, 1], c=np.squeeze(y), s=100, cmap='viridis')\n",
    "plt.plot(plot_x, plot_y, color='k', linewidth=2)\n",
    "#plt.xlim([-0.2, 1.2]); plt.ylim([-0.2, 1.25]);\n",
    "plt.show()"
   ]
  }
 ],
 "metadata": {
  "kernelspec": {
   "display_name": "Python 3",
   "language": "python",
   "name": "python3"
  },
  "language_info": {
   "codemirror_mode": {
    "name": "ipython",
    "version": 3
   },
   "file_extension": ".py",
   "mimetype": "text/x-python",
   "name": "python",
   "nbconvert_exporter": "python",
   "pygments_lexer": "ipython3",
   "version": "3.7.2"
  }
 },
 "nbformat": 4,
 "nbformat_minor": 2
}
