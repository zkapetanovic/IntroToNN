{
 "cells": [
  {
   "cell_type": "code",
   "execution_count": 1,
   "metadata": {},
   "outputs": [],
   "source": [
    "import tensorflow as tf\n",
    "import numpy as np\n",
    "import pandas as pd\n",
    "from pandas import get_dummies\n",
    "from sklearn.model_selection import train_test_split\n",
    "\n",
    "import matplotlib.pyplot as plt\n",
    "%matplotlib inline\n",
    "import seaborn as sns\n",
    "sns.set(style='darkgrid', rc={'figure.facecolor':'#abb2bf'})\n",
    "\n",
    "import os\n",
    "os.environ['KMP_DUPLICATE_LIB_OK']='True'\n",
    "\n"
   ]
  },
  {
   "cell_type": "markdown",
   "metadata": {},
   "source": [
    "<h1>Load data</h1>"
   ]
  },
  {
   "cell_type": "code",
   "execution_count": 2,
   "metadata": {},
   "outputs": [],
   "source": [
    "file_name = \"iris.data.csv\""
   ]
  },
  {
   "cell_type": "code",
   "execution_count": 3,
   "metadata": {},
   "outputs": [
    {
     "data": {
      "text/html": [
       "<div>\n",
       "<style scoped>\n",
       "    .dataframe tbody tr th:only-of-type {\n",
       "        vertical-align: middle;\n",
       "    }\n",
       "\n",
       "    .dataframe tbody tr th {\n",
       "        vertical-align: top;\n",
       "    }\n",
       "\n",
       "    .dataframe thead th {\n",
       "        text-align: right;\n",
       "    }\n",
       "</style>\n",
       "<table border=\"1\" class=\"dataframe\">\n",
       "  <thead>\n",
       "    <tr style=\"text-align: right;\">\n",
       "      <th></th>\n",
       "      <th>sepal_length</th>\n",
       "      <th>sepal_width</th>\n",
       "      <th>petal_length</th>\n",
       "      <th>petal_width</th>\n",
       "      <th>species</th>\n",
       "    </tr>\n",
       "  </thead>\n",
       "  <tbody>\n",
       "    <tr>\n",
       "      <th>0</th>\n",
       "      <td>5.1</td>\n",
       "      <td>3.5</td>\n",
       "      <td>1.4</td>\n",
       "      <td>0.2</td>\n",
       "      <td>Iris-setosa</td>\n",
       "    </tr>\n",
       "    <tr>\n",
       "      <th>1</th>\n",
       "      <td>4.9</td>\n",
       "      <td>3.0</td>\n",
       "      <td>1.4</td>\n",
       "      <td>0.2</td>\n",
       "      <td>Iris-setosa</td>\n",
       "    </tr>\n",
       "    <tr>\n",
       "      <th>2</th>\n",
       "      <td>4.7</td>\n",
       "      <td>3.2</td>\n",
       "      <td>1.3</td>\n",
       "      <td>0.2</td>\n",
       "      <td>Iris-setosa</td>\n",
       "    </tr>\n",
       "    <tr>\n",
       "      <th>3</th>\n",
       "      <td>4.6</td>\n",
       "      <td>3.1</td>\n",
       "      <td>1.5</td>\n",
       "      <td>0.2</td>\n",
       "      <td>Iris-setosa</td>\n",
       "    </tr>\n",
       "    <tr>\n",
       "      <th>4</th>\n",
       "      <td>5.0</td>\n",
       "      <td>3.6</td>\n",
       "      <td>1.4</td>\n",
       "      <td>0.2</td>\n",
       "      <td>Iris-setosa</td>\n",
       "    </tr>\n",
       "  </tbody>\n",
       "</table>\n",
       "</div>"
      ],
      "text/plain": [
       "   sepal_length  sepal_width  petal_length  petal_width      species\n",
       "0           5.1          3.5           1.4          0.2  Iris-setosa\n",
       "1           4.9          3.0           1.4          0.2  Iris-setosa\n",
       "2           4.7          3.2           1.3          0.2  Iris-setosa\n",
       "3           4.6          3.1           1.5          0.2  Iris-setosa\n",
       "4           5.0          3.6           1.4          0.2  Iris-setosa"
      ]
     },
     "execution_count": 3,
     "metadata": {},
     "output_type": "execute_result"
    }
   ],
   "source": [
    "#load the dataset into memory\n",
    "dataset = pd.read_csv(file_name,header=None,\\\n",
    "                      names=['sepal_length','sepal_width','petal_length','petal_width','species'])\n",
    "#check several examples of data\n",
    "dataset.head()"
   ]
  },
  {
   "cell_type": "markdown",
   "metadata": {},
   "source": [
    "<h1>Data preprocessing</h1>"
   ]
  },
  {
   "cell_type": "code",
   "execution_count": 4,
   "metadata": {},
   "outputs": [],
   "source": [
    "#simple function to process the data.\n",
    "\"\"\"\n",
    "input:\n",
    "    data: iris dataset\n",
    "    num_features: 2 => select only petal width and petal width.\n",
    "                  4 => select all features\n",
    "    flower: 'Iris-setosa' => labels of Iris-setosa will be 1 and others will be 0\n",
    "            'Iris-virginica' => labels of Iris-virginica will be 1 and others will be 0\n",
    "            'None' => use one-hot encoding to represent the labels\n",
    "\n",
    "return:\n",
    "    x: normalized & shuffled data\n",
    "    y: labels\n",
    "\"\"\"\n",
    "def data_preprocessing(data,num_features,flower=None):\n",
    "    if num_features==2:\n",
    "        features = data.columns[2:4]\n",
    "    else:\n",
    "        features = data.columns[0:4]\n",
    "    labels = dataset.columns[4]\n",
    "    print(features)\n",
    "    print(labels)\n",
    "    #normalize the data\n",
    "    data_norm = pd.DataFrame(data)\n",
    "    for feature in features:\n",
    "        data[feature] = (data[feature]-data[feature].mean())/data[feature].std()\n",
    "\n",
    "    #shuffle the data\n",
    "    indices = data_norm.index.tolist()\n",
    "    indices = np.array(indices)\n",
    "    np.random.shuffle(indices)\n",
    "    x = data_norm.reindex(indices)[features]\n",
    "    y = data_norm.reindex(indices)[labels]\n",
    "    if flower=='Iris-setosa':\n",
    "        for i in range(len(y)):\n",
    "            y[i]=1 if y[i]=='Iris-setosa' else 0\n",
    "        y = y.values.reshape(len(y),1)\n",
    "    elif flower=='Iris-virginica':\n",
    "        for i in range(len(y)):\n",
    "            y[i]=1 if y[i]=='Iris-virginica' else 0\n",
    "        y = y.values.reshape(len(y),1)\n",
    "    else:\n",
    "        y = get_dummies(y)\n",
    "    return x,y"
   ]
  },
  {
   "cell_type": "markdown",
   "metadata": {},
   "source": [
    "<h1>Part a:"
   ]
  },
  {
   "cell_type": "code",
   "execution_count": 5,
   "metadata": {},
   "outputs": [
    {
     "name": "stdout",
     "output_type": "stream",
     "text": [
      "Index([u'petal_length', u'petal_width'], dtype='object')\n",
      "species\n"
     ]
    }
   ],
   "source": [
    "x_1,y_1 = data_preprocessing(dataset,2,flower='Iris-setosa')\n",
    "#generate traning and validation sets\n",
    "x_train_1, x_test_1, y_train_1, y_test_1 = train_test_split(x_1,y_1,test_size=0.3)"
   ]
  },
  {
   "cell_type": "markdown",
   "metadata": {},
   "source": [
    "<h2>Define hyper-parameters</h2>"
   ]
  },
  {
   "cell_type": "code",
   "execution_count": 6,
   "metadata": {},
   "outputs": [],
   "source": [
    "# Define number of iterations\n",
    "num_iter = 100\n",
    "\n",
    "# Define learning rate\n",
    "lr = 0.005\n",
    "\n",
    "num_inputs = 2\n",
    "num_classes = 1"
   ]
  },
  {
   "cell_type": "markdown",
   "metadata": {},
   "source": [
    "<h2>Define Placeholder and Variables</h2>"
   ]
  },
  {
   "cell_type": "code",
   "execution_count": 7,
   "metadata": {},
   "outputs": [
    {
     "name": "stdout",
     "output_type": "stream",
     "text": [
      "WARNING:tensorflow:From /Users/zerinakapetanovic/anaconda2/lib/python2.7/site-packages/tensorflow/python/framework/op_def_library.py:263: colocate_with (from tensorflow.python.framework.ops) is deprecated and will be removed in a future version.\n",
      "Instructions for updating:\n",
      "Colocations handled automatically by placer.\n"
     ]
    }
   ],
   "source": [
    "tf.reset_default_graph()\n",
    "\n",
    "X = tf.placeholder(tf.float32, shape=[None,None],name='X')\n",
    "Y = tf.placeholder(tf.float32, shape=[None,None],name='Y')\n",
    "\n",
    "# Define the weight\n",
    "W = tf.Variable(tf.random_normal([num_inputs,num_classes]),tf.float32,name='W')\n",
    "\n",
    "# Define the bias\n",
    "b = tf.Variable(tf.zeros(shape=[num_classes]),tf.float32,name='bias')"
   ]
  },
  {
   "cell_type": "markdown",
   "metadata": {},
   "source": [
    "<h2>Define update rule and accuracy</h2>"
   ]
  },
  {
   "cell_type": "code",
   "execution_count": 8,
   "metadata": {},
   "outputs": [],
   "source": [
    "\n",
    "# Define the predicted output\n",
    "Y_hat = tf.add(tf.matmul(X,W),b,'Y_hat')\n",
    "\n",
    "#define the loss function, we are using cross entropy function after sigmoid on Y_hat\n",
    "loss = tf.reduce_sum(tf.nn.sigmoid_cross_entropy_with_logits(logits=Y_hat,labels=Y),name='loss')\n",
    "\n",
    "#define the optimizer, here we use standard gradient descent method\n",
    "optimizer = tf.train.GradientDescentOptimizer(lr).minimize(loss)\n",
    "\n",
    "#initialize tensorflow variables\n",
    "init = tf.global_variables_initializer()\n",
    "\n",
    "# Compare the predicted labels with true labels\n",
    "#correct_pred = tf.equal(tf.argmax(Y_hat,1), tf.argmax(Y,1))\n",
    "correct_pred = tf.equal(tf.cast(Y_hat>0, tf.float32), Y)\n",
    "\n",
    "# Compute the accuracy by taking the average\n",
    "accuracy = tf.reduce_mean(tf.cast(correct_pred, tf.float32),name='accuracy')"
   ]
  },
  {
   "cell_type": "markdown",
   "metadata": {},
   "source": [
    "<h2>Execute training</h2>"
   ]
  },
  {
   "cell_type": "code",
   "execution_count": 9,
   "metadata": {
    "scrolled": false
   },
   "outputs": [
    {
     "name": "stdout",
     "output_type": "stream",
     "text": [
      "step 0, Loss = 16.764017 Accuracy = 0.95238096\n",
      "step 5, Loss = 13.375131 Accuracy = 0.96190476\n",
      "step 10, Loss = 11.185388 Accuracy = 0.9809524\n",
      "step 15, Loss = 9.660098 Accuracy = 0.9809524\n",
      "step 20, Loss = 8.539667 Accuracy = 0.9809524\n",
      "step 25, Loss = 7.682877 Accuracy = 0.9904762\n",
      "step 30, Loss = 7.0065274 Accuracy = 0.9904762\n",
      "step 35, Loss = 6.458598 Accuracy = 0.9904762\n",
      "step 40, Loss = 6.0050383 Accuracy = 0.9904762\n",
      "step 45, Loss = 5.6227164 Accuracy = 0.9904762\n",
      "step 50, Loss = 5.2954264 Accuracy = 0.9904762\n",
      "step 55, Loss = 5.011519 Accuracy = 0.9904762\n",
      "step 60, Loss = 4.7624197 Accuracy = 0.9904762\n",
      "step 65, Loss = 4.541697 Accuracy = 1.0\n",
      "step 70, Loss = 4.344431 Accuracy = 1.0\n",
      "step 75, Loss = 4.1668005 Accuracy = 1.0\n",
      "step 80, Loss = 4.0057926 Accuracy = 1.0\n",
      "step 85, Loss = 3.8589985 Accuracy = 1.0\n",
      "step 90, Loss = 3.7244704 Accuracy = 1.0\n",
      "step 95, Loss = 3.6006114 Accuracy = 1.0\n",
      "('Testing Accuracy:', 1.0)\n"
     ]
    }
   ],
   "source": [
    "t_acc_1 = []\n",
    "#start tensorflow session\n",
    "with tf.Session() as sess:\n",
    "    #run initialization\n",
    "    sess.run(init)\n",
    "    #training for number of iterations\n",
    "    for i in range(num_iter):      \n",
    "        #every iteration we run optimization on the training data X and labels Y\n",
    "        sess.run(optimizer,feed_dict = {X:x_train_1,Y:y_train_1})\n",
    "        \n",
    "        if i % 5 == 0:\n",
    "            curr_loss = sess.run(loss, feed_dict={X:x_train_1,Y:y_train_1})\n",
    "            acc = sess.run(accuracy, feed_dict={X:x_train_1,Y:y_train_1})\n",
    "            \n",
    "            pred = sess.run(Y_hat, feed_dict={X:x_train_1,Y:y_train_1})\n",
    "            lab = sess.run(Y, feed_dict={X:x_train_1,Y:y_train_1})\n",
    "            t_acc_1.append(acc)\n",
    "            print(\"step \" + str(i) + \", Loss = \" + str(curr_loss) + \" Accuracy = \" + str(acc))\n",
    "                \n",
    "        \n",
    "    #after training, we acquire the weight and bias\n",
    "    #np.squeeze plays a role to get rid of the redundant dimension [i.e.make (2,1) be (2,)]\n",
    "    W = np.squeeze(sess.run(W))\n",
    "    b = np.squeeze(sess.run(b))\n",
    "    \n",
    "    print(\"Testing Accuracy:\", sess.run(accuracy, feed_dict={X:x_test_1, Y:y_test_1}))\n",
    "    "
   ]
  },
  {
   "cell_type": "markdown",
   "metadata": {},
   "source": [
    "<h2>Plot</h2>"
   ]
  },
  {
   "cell_type": "code",
   "execution_count": 10,
   "metadata": {},
   "outputs": [
    {
     "data": {
      "image/png": "[encoded data removed]",
      "text/plain": [
       "<Figure size 432x288 with 1 Axes>"
      ]
     },
     "metadata": {
      "needs_background": "light"
     },
     "output_type": "display_data"
    }
   ],
   "source": [
    "#plot out the decision line determined by learned weight and bias\n",
    "#plt.xlim([0, len(t_acc)]); plt.ylim([0, 1.1]);\n",
    "plt.plot(t_acc_1, color='k', linewidth=2)\n",
    "plt.ylabel('Accuracy')\n",
    "plt.xlabel('Epoch')\n",
    "plt.show()"
   ]
  },
  {
   "cell_type": "code",
   "execution_count": 11,
   "metadata": {},
   "outputs": [
    {
     "data": {
      "text/html": [
       "<div>\n",
       "<style scoped>\n",
       "    .dataframe tbody tr th:only-of-type {\n",
       "        vertical-align: middle;\n",
       "    }\n",
       "\n",
       "    .dataframe tbody tr th {\n",
       "        vertical-align: top;\n",
       "    }\n",
       "\n",
       "    .dataframe thead th {\n",
       "        text-align: right;\n",
       "    }\n",
       "</style>\n",
       "<table border=\"1\" class=\"dataframe\">\n",
       "  <thead>\n",
       "    <tr style=\"text-align: right;\">\n",
       "      <th></th>\n",
       "      <th>petal_length</th>\n",
       "      <th>petal_width</th>\n",
       "      <th>label</th>\n",
       "    </tr>\n",
       "  </thead>\n",
       "  <tbody>\n",
       "    <tr>\n",
       "      <th>0</th>\n",
       "      <td>0.986915</td>\n",
       "      <td>0.787951</td>\n",
       "      <td>0</td>\n",
       "    </tr>\n",
       "    <tr>\n",
       "      <th>1</th>\n",
       "      <td>1.100267</td>\n",
       "      <td>1.705189</td>\n",
       "      <td>0</td>\n",
       "    </tr>\n",
       "    <tr>\n",
       "      <th>2</th>\n",
       "      <td>1.213619</td>\n",
       "      <td>1.181053</td>\n",
       "      <td>0</td>\n",
       "    </tr>\n",
       "    <tr>\n",
       "      <th>3</th>\n",
       "      <td>1.043591</td>\n",
       "      <td>0.787951</td>\n",
       "      <td>0</td>\n",
       "    </tr>\n",
       "    <tr>\n",
       "      <th>4</th>\n",
       "      <td>-1.280118</td>\n",
       "      <td>-1.308593</td>\n",
       "      <td>1</td>\n",
       "    </tr>\n",
       "  </tbody>\n",
       "</table>\n",
       "</div>"
      ],
      "text/plain": [
       "   petal_length  petal_width label\n",
       "0      0.986915     0.787951     0\n",
       "1      1.100267     1.705189     0\n",
       "2      1.213619     1.181053     0\n",
       "3      1.043591     0.787951     0\n",
       "4     -1.280118    -1.308593     1"
      ]
     },
     "execution_count": 11,
     "metadata": {},
     "output_type": "execute_result"
    }
   ],
   "source": [
    "plot_df = pd.concat(\n",
    "    [\n",
    "        x_train_1.reset_index(drop=True), \n",
    "        pd.DataFrame(y_train_1.flatten())\n",
    "    ],\n",
    "    axis=1\n",
    ").rename({0: 'label'}, axis=1)\n",
    "\n",
    "plot_df.head()"
   ]
  },
  {
   "cell_type": "code",
   "execution_count": 12,
   "metadata": {},
   "outputs": [
    {
     "data": {
      "image/png": "[encoded data removed]",
      "text/plain": [
       "<Figure size 432x288 with 2 Axes>"
      ]
     },
     "metadata": {
      "needs_background": "light"
     },
     "output_type": "display_data"
    }
   ],
   "source": [
    "# calculate decision line\n",
    "plot_x = np.array([np.min(x_train_1.values[:, 0] - 0.2), np.max(x_train_1.values[:, 1]+0.2)])\n",
    "plot_y = 1 / W[1] * (-W[0] * plot_x - b)\n",
    "\n",
    "# plot dataframe\n",
    "(plot_df\n",
    " .plot\n",
    " .scatter(\n",
    "     x='petal_length',\n",
    "     y='petal_width', \n",
    "     c='label',\n",
    "     colormap='RdBu',\n",
    "     sharex=False\n",
    " )\n",
    ")\n",
    "\n",
    "# plot decision line\n",
    "plt.plot(plot_x, plot_y, color='k', linewidth=2)\n",
    "\n",
    "# adjust axes\n",
    "plt.xlim([-1.5, 2.0]);\n",
    "plt.ylim([-1.5, 2.0]);"
   ]
  },
  {
   "cell_type": "markdown",
   "metadata": {},
   "source": [
    "<p style=\"font-size:15px\">I am getting very high accuracy after very few iterations. For instance, after the first iteration the accuracy was already at 95%. These results tell me that it is very easy to distiguish between setosa and non-setosa.</p>"
   ]
  },
  {
   "cell_type": "markdown",
   "metadata": {},
   "source": [
    "<h1>Part b:</h1>"
   ]
  },
  {
   "cell_type": "code",
   "execution_count": 13,
   "metadata": {},
   "outputs": [
    {
     "name": "stdout",
     "output_type": "stream",
     "text": [
      "Index([u'petal_length', u'petal_width'], dtype='object')\n",
      "species\n"
     ]
    }
   ],
   "source": [
    "x_2,y_2 = data_preprocessing(dataset,2,flower='Iris-virginica')\n",
    "#generate traning and validation sets\n",
    "x_train_2, x_test_2, y_train_2, y_test_2 = train_test_split(x_2,y_2,test_size=0.3)"
   ]
  },
  {
   "cell_type": "markdown",
   "metadata": {},
   "source": [
    "<h2>Define hyper-parameter</h2>"
   ]
  },
  {
   "cell_type": "code",
   "execution_count": 14,
   "metadata": {},
   "outputs": [],
   "source": [
    "# Define number of iterations\n",
    "num_iter = 100\n",
    "\n",
    "# Define learning rate\n",
    "lr = 0.005\n",
    "\n",
    "num_inputs = 2\n",
    "num_classes = 1"
   ]
  },
  {
   "cell_type": "markdown",
   "metadata": {},
   "source": [
    "<h2>Define Placeholder and Variables</h2>"
   ]
  },
  {
   "cell_type": "code",
   "execution_count": 15,
   "metadata": {},
   "outputs": [],
   "source": [
    "tf.reset_default_graph()\n",
    "\n",
    "X = tf.placeholder(tf.float32, shape=[None,None],name='X')\n",
    "Y = tf.placeholder(tf.float32, shape=[None,None],name='Y')\n",
    "\n",
    "# Define the weight\n",
    "W = tf.Variable(tf.random_normal([num_inputs,num_classes]),tf.float32,name='W')\n",
    "\n",
    "# Define the bias\n",
    "b = tf.Variable(tf.zeros(shape=[num_classes]),tf.float32,name='bias')"
   ]
  },
  {
   "cell_type": "markdown",
   "metadata": {},
   "source": [
    "<h2>Define update rule and accuracy</h2>"
   ]
  },
  {
   "cell_type": "code",
   "execution_count": 16,
   "metadata": {},
   "outputs": [],
   "source": [
    "\n",
    "# Define the predicted output\n",
    "Y_hat = tf.add(tf.matmul(X,W),b,'Y_hat')\n",
    "\n",
    "#define the loss function, we are using cross entropy function after sigmoid on Y_hat\n",
    "loss = tf.reduce_sum(tf.nn.sigmoid_cross_entropy_with_logits(logits=Y_hat,labels=Y),name='loss')\n",
    "\n",
    "#define the optimizer, here we use standard gradient descent method\n",
    "optimizer = tf.train.GradientDescentOptimizer(lr).minimize(loss)\n",
    "\n",
    "#initialize tensorflow variables\n",
    "init = tf.global_variables_initializer()\n",
    "\n",
    "# Compare the predicted labels with true labels\n",
    "#correct_pred = tf.equal(tf.argmax(Y_hat,1), tf.argmax(Y,1))\n",
    "correct_pred = tf.equal(tf.cast(Y_hat>0, tf.float32), Y)\n",
    "\n",
    "# Compute the accuracy by taking the average\n",
    "accuracy = tf.reduce_mean(tf.cast(correct_pred, tf.float32),name='accuracy')"
   ]
  },
  {
   "cell_type": "markdown",
   "metadata": {},
   "source": [
    "<h2>Execute training</h2>"
   ]
  },
  {
   "cell_type": "code",
   "execution_count": 17,
   "metadata": {},
   "outputs": [
    {
     "name": "stdout",
     "output_type": "stream",
     "text": [
      "step 0, Loss = 123.060234 Accuracy = 0.30476192\n",
      "step 5, Loss = 46.41834 Accuracy = 0.93333334\n",
      "step 10, Loss = 36.191956 Accuracy = 0.8952381\n",
      "step 15, Loss = 31.804838 Accuracy = 0.94285715\n",
      "step 20, Loss = 29.026142 Accuracy = 0.94285715\n",
      "step 25, Loss = 27.005882 Accuracy = 0.95238096\n",
      "step 30, Loss = 25.432323 Accuracy = 0.96190476\n",
      "step 35, Loss = 24.153685 Accuracy = 0.9714286\n",
      "step 40, Loss = 23.084055 Accuracy = 0.9714286\n",
      "step 45, Loss = 22.170042 Accuracy = 0.96190476\n",
      "step 50, Loss = 21.376192 Accuracy = 0.95238096\n",
      "step 55, Loss = 20.67779 Accuracy = 0.95238096\n",
      "step 60, Loss = 20.056898 Accuracy = 0.95238096\n",
      "step 65, Loss = 19.500103 Accuracy = 0.95238096\n",
      "step 70, Loss = 18.997103 Accuracy = 0.95238096\n",
      "step 75, Loss = 18.539818 Accuracy = 0.95238096\n",
      "step 80, Loss = 18.121807 Accuracy = 0.95238096\n",
      "step 85, Loss = 17.737833 Accuracy = 0.95238096\n",
      "step 90, Loss = 17.383614 Accuracy = 0.95238096\n",
      "step 95, Loss = 17.055578 Accuracy = 0.95238096\n",
      "('Testing Accuracy:', 0.95555556)\n"
     ]
    }
   ],
   "source": [
    "t_acc_2 = []\n",
    "#start tensorflow session\n",
    "with tf.Session() as sess:\n",
    "    #run initialization\n",
    "    sess.run(init)\n",
    "    #training for number of iterations\n",
    "    for i in range(num_iter):      \n",
    "        #every iteration we run optimization on the training data X and labels Y\n",
    "        sess.run(optimizer,feed_dict = {X:x_train_2,Y:y_train_2})\n",
    "        \n",
    "        if i % 5 == 0:\n",
    "            curr_loss = sess.run(loss, feed_dict={X:x_train_2,Y:y_train_2})\n",
    "            acc = sess.run(accuracy, feed_dict={X:x_train_2,Y:y_train_2})\n",
    "            \n",
    "            pred = sess.run(Y_hat, feed_dict={X:x_train_2,Y:y_train_2})\n",
    "            lab = sess.run(Y, feed_dict={X:x_train_2,Y:y_train_2})\n",
    "            t_acc_2.append(acc)\n",
    "            print(\"step \" + str(i) + \", Loss = \" + str(curr_loss) + \" Accuracy = \" + str(acc))\n",
    "                \n",
    "        \n",
    "    #after training, we acquire the weight and bias\n",
    "    #np.squeeze plays a role to get rid of the redundant dimension [i.e.make (2,1) be (2,)]\n",
    "    W = np.squeeze(sess.run(W))\n",
    "    b = np.squeeze(sess.run(b))\n",
    "    \n",
    "    print(\"Testing Accuracy:\", sess.run(accuracy, feed_dict={X:x_test_2, Y:y_test_2}))"
   ]
  },
  {
   "cell_type": "markdown",
   "metadata": {},
   "source": [
    "<h2>Plot</h2>"
   ]
  },
  {
   "cell_type": "code",
   "execution_count": 18,
   "metadata": {},
   "outputs": [
    {
     "data": {
      "image/png": "[encoded data removed]",
      "text/plain": [
       "<Figure size 432x288 with 1 Axes>"
      ]
     },
     "metadata": {
      "needs_background": "light"
     },
     "output_type": "display_data"
    }
   ],
   "source": [
    "#plot out the decision line determined by learned weight and bias\n",
    "#plt.xlim([0, len(t_acc)]); plt.ylim([0, 1.1]);\n",
    "plt.plot(t_acc_2, color='k', linewidth=2)\n",
    "plt.ylabel('Accuracy')\n",
    "plt.xlabel('Epoch')\n",
    "plt.show()"
   ]
  },
  {
   "cell_type": "code",
   "execution_count": 19,
   "metadata": {},
   "outputs": [
    {
     "data": {
      "text/html": [
       "<div>\n",
       "<style scoped>\n",
       "    .dataframe tbody tr th:only-of-type {\n",
       "        vertical-align: middle;\n",
       "    }\n",
       "\n",
       "    .dataframe tbody tr th {\n",
       "        vertical-align: top;\n",
       "    }\n",
       "\n",
       "    .dataframe thead th {\n",
       "        text-align: right;\n",
       "    }\n",
       "</style>\n",
       "<table border=\"1\" class=\"dataframe\">\n",
       "  <thead>\n",
       "    <tr style=\"text-align: right;\">\n",
       "      <th></th>\n",
       "      <th>petal_length</th>\n",
       "      <th>petal_width</th>\n",
       "      <th>label</th>\n",
       "    </tr>\n",
       "  </thead>\n",
       "  <tbody>\n",
       "    <tr>\n",
       "      <th>0</th>\n",
       "      <td>-1.053415</td>\n",
       "      <td>-1.308593</td>\n",
       "      <td>0</td>\n",
       "    </tr>\n",
       "    <tr>\n",
       "      <th>1</th>\n",
       "      <td>0.476833</td>\n",
       "      <td>0.132781</td>\n",
       "      <td>0</td>\n",
       "    </tr>\n",
       "    <tr>\n",
       "      <th>2</th>\n",
       "      <td>1.326970</td>\n",
       "      <td>1.705189</td>\n",
       "      <td>1</td>\n",
       "    </tr>\n",
       "    <tr>\n",
       "      <th>3</th>\n",
       "      <td>1.156943</td>\n",
       "      <td>1.312087</td>\n",
       "      <td>1</td>\n",
       "    </tr>\n",
       "    <tr>\n",
       "      <th>4</th>\n",
       "      <td>-1.166767</td>\n",
       "      <td>-1.308593</td>\n",
       "      <td>0</td>\n",
       "    </tr>\n",
       "  </tbody>\n",
       "</table>\n",
       "</div>"
      ],
      "text/plain": [
       "   petal_length  petal_width label\n",
       "0     -1.053415    -1.308593     0\n",
       "1      0.476833     0.132781     0\n",
       "2      1.326970     1.705189     1\n",
       "3      1.156943     1.312087     1\n",
       "4     -1.166767    -1.308593     0"
      ]
     },
     "execution_count": 19,
     "metadata": {},
     "output_type": "execute_result"
    }
   ],
   "source": [
    "plot_df = pd.concat(\n",
    "    [\n",
    "        x_train_2.reset_index(drop=True), \n",
    "        pd.DataFrame(y_train_2.flatten())\n",
    "    ],\n",
    "    axis=1\n",
    ").rename({0: 'label'}, axis=1)\n",
    "\n",
    "plot_df.head()"
   ]
  },
  {
   "cell_type": "code",
   "execution_count": 20,
   "metadata": {},
   "outputs": [
    {
     "data": {
      "image/png": "[encoded data removed]",
      "text/plain": [
       "<Figure size 432x288 with 2 Axes>"
      ]
     },
     "metadata": {
      "needs_background": "light"
     },
     "output_type": "display_data"
    }
   ],
   "source": [
    "# calculate decision line\n",
    "plot_x = np.array([np.min(x_train_1.values[:, 0] - 0.2), np.max(x_train_1.values[:, 1]+0.2)])\n",
    "plot_y = 1 / W[1] * (-W[0] * plot_x - b)\n",
    "\n",
    "# plot dataframe\n",
    "(plot_df\n",
    " .plot\n",
    " .scatter(\n",
    "     x='petal_length',\n",
    "     y='petal_width', \n",
    "     c='label',\n",
    "     colormap='RdBu',\n",
    "     sharex=False\n",
    " )\n",
    ")\n",
    "\n",
    "# plot decision line\n",
    "plt.plot(plot_x, plot_y, color='k', linewidth=2)\n",
    "\n",
    "# adjust axes\n",
    "plt.xlim([-1.5, 2.0]);\n",
    "plt.ylim([-1.5, 2.0]);"
   ]
  },
  {
   "cell_type": "markdown",
   "metadata": {},
   "source": [
    "<p style=\"font-size:15px\"> Classification of virginica vs. non-virginica has high accuracy, but it does not perform as well as the previous implementation. After the first iteration the  accuracy is only 30% and reaches 97% after 35 iterations. These results tell me that the petal width and length of virginica are not as consistent in comparison to setosa and this is the reason why it does not reach the same accuracy in comparison to classifying setosa vs. non-setosa. If we used all four features for this classification, it could be improved.</p>"
   ]
  },
  {
   "cell_type": "markdown",
   "metadata": {},
   "source": [
    "<h1>Part c:</h1>"
   ]
  },
  {
   "cell_type": "code",
   "execution_count": 21,
   "metadata": {},
   "outputs": [
    {
     "name": "stdout",
     "output_type": "stream",
     "text": [
      "Index([u'sepal_length', u'sepal_width', u'petal_length', u'petal_width'], dtype='object')\n",
      "species\n"
     ]
    },
    {
     "data": {
      "text/html": [
       "<div>\n",
       "<style scoped>\n",
       "    .dataframe tbody tr th:only-of-type {\n",
       "        vertical-align: middle;\n",
       "    }\n",
       "\n",
       "    .dataframe tbody tr th {\n",
       "        vertical-align: top;\n",
       "    }\n",
       "\n",
       "    .dataframe thead th {\n",
       "        text-align: right;\n",
       "    }\n",
       "</style>\n",
       "<table border=\"1\" class=\"dataframe\">\n",
       "  <thead>\n",
       "    <tr style=\"text-align: right;\">\n",
       "      <th></th>\n",
       "      <th>sepal_length</th>\n",
       "      <th>sepal_width</th>\n",
       "      <th>petal_length</th>\n",
       "      <th>petal_width</th>\n",
       "    </tr>\n",
       "  </thead>\n",
       "  <tbody>\n",
       "    <tr>\n",
       "      <th>138</th>\n",
       "      <td>0.189196</td>\n",
       "      <td>-0.124540</td>\n",
       "      <td>0.590184</td>\n",
       "      <td>0.787951</td>\n",
       "    </tr>\n",
       "    <tr>\n",
       "      <th>24</th>\n",
       "      <td>-1.259964</td>\n",
       "      <td>0.797981</td>\n",
       "      <td>-1.053415</td>\n",
       "      <td>-1.308593</td>\n",
       "    </tr>\n",
       "    <tr>\n",
       "      <th>56</th>\n",
       "      <td>0.551486</td>\n",
       "      <td>0.567351</td>\n",
       "      <td>0.533509</td>\n",
       "      <td>0.525883</td>\n",
       "    </tr>\n",
       "    <tr>\n",
       "      <th>70</th>\n",
       "      <td>0.068433</td>\n",
       "      <td>0.336720</td>\n",
       "      <td>0.590184</td>\n",
       "      <td>0.787951</td>\n",
       "    </tr>\n",
       "    <tr>\n",
       "      <th>103</th>\n",
       "      <td>0.551486</td>\n",
       "      <td>-0.355171</td>\n",
       "      <td>1.043591</td>\n",
       "      <td>0.787951</td>\n",
       "    </tr>\n",
       "  </tbody>\n",
       "</table>\n",
       "</div>"
      ],
      "text/plain": [
       "     sepal_length  sepal_width  petal_length  petal_width\n",
       "138      0.189196    -0.124540      0.590184     0.787951\n",
       "24      -1.259964     0.797981     -1.053415    -1.308593\n",
       "56       0.551486     0.567351      0.533509     0.525883\n",
       "70       0.068433     0.336720      0.590184     0.787951\n",
       "103      0.551486    -0.355171      1.043591     0.787951"
      ]
     },
     "execution_count": 21,
     "metadata": {},
     "output_type": "execute_result"
    }
   ],
   "source": [
    "x_3,y_3 = data_preprocessing(dataset,4)\n",
    "#generate traning and validation sets\n",
    "x_train_3, x_test_3, y_train_3, y_test_3 = train_test_split(x_3,y_3,test_size=0.3)\n",
    "x_train_3.head()"
   ]
  },
  {
   "cell_type": "markdown",
   "metadata": {},
   "source": [
    "<h2>Define hyper-parameters</h2>"
   ]
  },
  {
   "cell_type": "code",
   "execution_count": 22,
   "metadata": {},
   "outputs": [],
   "source": [
    "lr = 0.01\n",
    "num_iter = 100\n",
    "# Network parameters\n",
    "n_hidden_1 = 256\n",
    "n_hidden_2 = 128\n",
    "\n",
    "n_features = 4\n",
    "n_labels = 3"
   ]
  },
  {
   "cell_type": "markdown",
   "metadata": {},
   "source": [
    "<h2>Define placehoder and variables</h2>"
   ]
  },
  {
   "cell_type": "code",
   "execution_count": 23,
   "metadata": {},
   "outputs": [],
   "source": [
    "tf.reset_default_graph()\n",
    "\n",
    "X = tf.placeholder(tf.float32, shape=[None,n_features],name='X')\n",
    "Y = tf.placeholder(tf.float32, shape=[None,n_labels],name='Y')\n",
    "\n",
    "# Define the weights\n",
    "W1 = tf.Variable(tf.random_normal([n_features,n_hidden_1]),tf.float32,name='W1')\n",
    "W2 = tf.Variable(tf.random_normal([n_hidden_1,n_hidden_2]),tf.float32,name='W2')\n",
    "Wout = tf.Variable(tf.random_normal([n_hidden_2,n_labels]),tf.float32,name='Wout')\n",
    "\n",
    "# Define the biases\n",
    "b1 = tf.Variable(tf.zeros(shape=[n_hidden_1]),tf.float32,name='b1')\n",
    "b2 = tf.Variable(tf.zeros(shape=[n_hidden_2]),tf.float32,name='b2')\n",
    "bout = tf.Variable(tf.zeros(shape=[n_labels]),tf.float32,name='bout')"
   ]
  },
  {
   "cell_type": "markdown",
   "metadata": {},
   "source": [
    "<h2>Define the neural network</h2>"
   ]
  },
  {
   "cell_type": "code",
   "execution_count": 24,
   "metadata": {},
   "outputs": [],
   "source": [
    "# Hidden layer 1\n",
    "l1 = tf.add(tf.matmul(X, W1), b1)\n",
    "rel_1 = tf.nn.relu(l1)\n",
    "\n",
    "# Hidd layer 2\n",
    "l2 = tf.add(tf.matmul(rel_1, W2), b2)\n",
    "rel_2 = tf.nn.relu(l2)\n",
    "\n",
    "# Output layer\n",
    "logits = tf.add(tf.matmul(rel_2, Wout), bout)\n",
    "#logits = tf.nn.softmax(out)\n"
   ]
  },
  {
   "cell_type": "markdown",
   "metadata": {},
   "source": [
    "<h2>Define cost function and accuracy</h2>"
   ]
  },
  {
   "cell_type": "code",
   "execution_count": 25,
   "metadata": {},
   "outputs": [],
   "source": [
    "# Define Loss\n",
    "loss = tf.reduce_mean(tf.nn.softmax_cross_entropy_with_logits_v2(logits=logits,labels=Y),name='loss')\n",
    "\n",
    "# Define optimizer\n",
    "optimizer = tf.train.GradientDescentOptimizer(learning_rate=lr)\n",
    "train_op = optimizer.minimize(loss)\n",
    "\n",
    "#initialize tensorflow variables\n",
    "init = tf.global_variables_initializer()\n",
    "\n",
    "\n",
    "pred_out = tf.nn.softmax(logits)\n",
    "# Compare the predicted labels with true labels\n",
    "correct_pred = tf.equal(tf.argmax(pred_out,1), tf.argmax(Y,1))\n",
    "#correct_pred = tf.equal(tf.cast(pred_out>0, tf.float32), Y)\n",
    "\n",
    "# Compute the accuracy by taking the average\n",
    "accuracy = tf.reduce_mean(tf.cast(correct_pred, tf.float32),name='accuracy')"
   ]
  },
  {
   "cell_type": "markdown",
   "metadata": {},
   "source": [
    "<h2>Execute training</h2>"
   ]
  },
  {
   "cell_type": "code",
   "execution_count": 26,
   "metadata": {
    "scrolled": false
   },
   "outputs": [
    {
     "name": "stdout",
     "output_type": "stream",
     "text": [
      "step 0, Loss = 111.54342 Accuracy = 0.61904764\n",
      "step 5, Loss = 2.2568104 Accuracy = 0.9047619\n",
      "step 10, Loss = 0.8379403 Accuracy = 0.93333334\n",
      "step 15, Loss = 0.19640432 Accuracy = 0.9714286\n",
      "step 20, Loss = 0.043163735 Accuracy = 0.9809524\n",
      "step 25, Loss = 0.17478569 Accuracy = 0.9714286\n",
      "step 30, Loss = 0.0014692543 Accuracy = 1.0\n",
      "step 35, Loss = 0.00089718925 Accuracy = 1.0\n",
      "step 40, Loss = 0.0006553374 Accuracy = 1.0\n",
      "step 45, Loss = 0.00052800274 Accuracy = 1.0\n",
      "step 50, Loss = 0.00046038488 Accuracy = 1.0\n",
      "step 55, Loss = 0.0004089219 Accuracy = 1.0\n",
      "step 60, Loss = 0.0003682186 Accuracy = 1.0\n",
      "step 65, Loss = 0.00033519205 Accuracy = 1.0\n",
      "step 70, Loss = 0.00030758753 Accuracy = 1.0\n",
      "step 75, Loss = 0.0002841221 Accuracy = 1.0\n",
      "step 80, Loss = 0.00026432215 Accuracy = 1.0\n",
      "step 85, Loss = 0.00024713305 Accuracy = 1.0\n",
      "step 90, Loss = 0.00023211374 Accuracy = 1.0\n",
      "step 95, Loss = 0.00021883278 Accuracy = 1.0\n"
     ]
    }
   ],
   "source": [
    "t_acc_3 = []\n",
    "#start tensorflow session\n",
    "with tf.Session() as sess:\n",
    "    #run initialization\n",
    "    sess.run(init)\n",
    "    #training for number of iterations\n",
    "    for i in range(num_iter):      \n",
    "        #every iteration we run optimization on the training data X and labels Y\n",
    "        sess.run(train_op,feed_dict = {X:x_train_3,Y:y_train_3})\n",
    "        if i % 5 == 0:\n",
    "            curr_loss = sess.run(loss, feed_dict={X:x_train_3,Y:y_train_3})\n",
    "            acc = sess.run(accuracy, feed_dict={X:x_train_3,Y:y_train_3})\n",
    "            t_acc_3.append(acc)\n",
    "            print(\"step \" + str(i) + \", Loss = \" + str(curr_loss) + \" Accuracy = \" + str(acc))\n",
    "    \n",
    "    #after training, we acquire the weight and bias\n",
    "    #np.squeeze plays a role to get rid of the redundant dimension [i.e.make (2,1) be (2,)]\n",
    "    W = np.squeeze(sess.run(Wout))\n",
    "    b = np.squeeze(sess.run(bout))"
   ]
  },
  {
   "cell_type": "markdown",
   "metadata": {},
   "source": [
    "<h2>Plot</h2>"
   ]
  },
  {
   "cell_type": "code",
   "execution_count": 27,
   "metadata": {},
   "outputs": [
    {
     "data": {
      "image/png": "[encoded data removed]",
      "text/plain": [
       "<Figure size 432x288 with 1 Axes>"
      ]
     },
     "metadata": {
      "needs_background": "light"
     },
     "output_type": "display_data"
    }
   ],
   "source": [
    "# Plot accuracy vs. epoch\n",
    "plt.plot(t_acc_3, color='k', linewidth=2)\n",
    "plt.ylabel('Accuracy')\n",
    "plt.xlabel('Epoch')\n",
    "plt.show()"
   ]
  }
 ],
 "metadata": {
  "kernelspec": {
   "display_name": "Python 3",
   "language": "python",
   "name": "python3"
  },
  "language_info": {
   "codemirror_mode": {
    "name": "ipython",
    "version": 3
   },
   "file_extension": ".py",
   "mimetype": "text/x-python",
   "name": "python",
   "nbconvert_exporter": "python",
   "pygments_lexer": "ipython3",
   "version": "3.7.2"
  }
 },
 "nbformat": 4,
 "nbformat_minor": 2
}
