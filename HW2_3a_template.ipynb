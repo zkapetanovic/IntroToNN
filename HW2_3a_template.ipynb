{
 "cells": [
  {
   "cell_type": "code",
   "execution_count": 34,
   "metadata": {},
   "outputs": [],
   "source": [
    "import tensorflow as tf\n",
    "import numpy as np\n",
    "import timeit\n",
    "from sklearn.utils import shuffle\n",
    "from load_cifar import one_hot_encoding\n",
    "old_v = tf.logging.get_verbosity()\n",
    "tf.logging.set_verbosity(tf.logging.ERROR)\n",
    "\n",
    "import os\n",
    "\n",
    "os.environ['KMP_DUPLICATE_LIB_OK']='True'"
   ]
  },
  {
   "cell_type": "markdown",
   "metadata": {},
   "source": [
    "<h1>Extract MNIST data</h1>"
   ]
  },
  {
   "cell_type": "code",
   "execution_count": 35,
   "metadata": {},
   "outputs": [
    {
     "name": "stdout",
     "output_type": "stream",
     "text": [
      "Extracting MNIST_data/train-images-idx3-ubyte.gz\n",
      "Extracting MNIST_data/train-labels-idx1-ubyte.gz\n",
      "Extracting MNIST_data/t10k-images-idx3-ubyte.gz\n",
      "Extracting MNIST_data/t10k-labels-idx1-ubyte.gz\n"
     ]
    }
   ],
   "source": [
    "from tensorflow.examples.tutorials.mnist import input_data\n",
    "#get mnist data, with one_hot encoding, reshape = False (that means images are not flatten)\n",
    "mnist = input_data.read_data_sets(\"MNIST_data/\",reshape=False,one_hot=True)\n",
    "#suppress warnings\n",
    "tf.logging.set_verbosity(old_v)"
   ]
  },
  {
   "cell_type": "markdown",
   "metadata": {},
   "source": [
    "<h1>Prepare training, validation and testing data</h1>"
   ]
  },
  {
   "cell_type": "code",
   "execution_count": 36,
   "metadata": {},
   "outputs": [
    {
     "name": "stdout",
     "output_type": "stream",
     "text": [
      "(55000, 32, 32, 1)\n"
     ]
    }
   ],
   "source": [
    "x_train, y_train           = mnist.train.images, mnist.train.labels\n",
    "x_validation, y_validation = mnist.validation.images, mnist.validation.labels\n",
    "x_test, y_test             = mnist.test.images, mnist.test.labels\n",
    "\n",
    "#pad images with 0s (28x28 to 32x32)\n",
    "x_train = np.pad(x_train, ((0,0),(2,2),(2,2),(0,0)), 'constant')\n",
    "x_validation = np.pad(x_validation, ((0,0),(2,2),(2,2),(0,0)), 'constant')\n",
    "x_test = np.pad(x_test, ((0,0),(2,2),(2,2),(0,0)), 'constant')\n",
    "\n",
    "print(x_train.shape)"
   ]
  },
  {
   "cell_type": "markdown",
   "metadata": {},
   "source": [
    "<h1>Define hyperparameter</h1>"
   ]
  },
  {
   "cell_type": "code",
   "execution_count": 43,
   "metadata": {},
   "outputs": [],
   "source": [
    "epochs = 10\n",
    "batch_size = 128\n",
    "lr = 0.01"
   ]
  },
  {
   "cell_type": "code",
   "execution_count": 44,
   "metadata": {},
   "outputs": [],
   "source": [
    "tf.reset_default_graph()"
   ]
  },
  {
   "cell_type": "markdown",
   "metadata": {},
   "source": [
    "<h1>Placeholder</h1>"
   ]
  },
  {
   "cell_type": "code",
   "execution_count": 45,
   "metadata": {},
   "outputs": [],
   "source": [
    "x = tf.placeholder(tf.float32, (None, 32, 32, 1))\n",
    "y = tf.placeholder(tf.float32, (None))"
   ]
  },
  {
   "cell_type": "markdown",
   "metadata": {},
   "source": [
    "<h1>Define LeNet-5</h1>"
   ]
  },
  {
   "cell_type": "code",
   "execution_count": 46,
   "metadata": {},
   "outputs": [],
   "source": [
    "def lenet5(x):\n",
    "    \n",
    "    ###### Convolution layer 6 @ 28x28 ######\n",
    "\n",
    "    W1 = tf.Variable(tf.truncated_normal(shape=(5,5,1,6), mean = 0, stddev = 0.1))\n",
    "    b1 = tf.Variable(tf.zeros(6))\n",
    "\n",
    "    l1 = tf.nn.conv2d(x, W1, strides=[1,1,1,1], padding='VALID') + b1\n",
    "    l1 = tf.nn.relu(l1)\n",
    "    l1 = tf.nn.max_pool(l1, ksize=[1,2,2,1], strides=[1,2,2,1], padding='VALID')\n",
    "\n",
    "    ###### Convolution layer 16 @ 10x10 ######\n",
    "\n",
    "    W2 = tf.Variable(tf.truncated_normal(shape=(5,5,6,16), mean = 0, stddev = 0.1))\n",
    "    b1 = tf.Variable(tf.zeros(16))\n",
    "\n",
    "    l2 = tf.nn.conv2d(l1, W2, strides=[1,1,1,1], padding='VALID')\n",
    "    l2 = tf.nn.relu(l2)\n",
    "    l2 = tf.nn.max_pool(l2, ksize=[1,2,2,1], strides=[1,2,2,1], padding='VALID')\n",
    "\n",
    "    ###### Fully connected (400 --> 120) ######\n",
    "    flat = tf.contrib.layers.flatten(l2)\n",
    "\n",
    "    W3 = tf.Variable(tf.truncated_normal(shape=(400,120), mean = 0, stddev = 0.1))\n",
    "    b3 = tf.Variable(tf.zeros(120))\n",
    "\n",
    "    l3 = tf.matmul(flat, W3) + b3\n",
    "    l3 = tf.nn.relu(l3)\n",
    "\n",
    "    ###### Fully connected (120 --> 84) ######\n",
    "    W4 = tf.Variable(tf.truncated_normal(shape=(120,84), mean = 0, stddev = 0.1))\n",
    "    b4 = tf.Variable(tf.zeros(84))\n",
    "\n",
    "    l4 = tf.matmul(l3, W4) + b4\n",
    "    l4 = tf.nn.relu(l4)\n",
    "\n",
    "    ###### Fully connected (84 --> 10) ######\n",
    "    W5 = tf.Variable(tf.truncated_normal(shape=(84,10), mean = 0, stddev = 0.1))\n",
    "    b5 = tf.Variable(tf.zeros(10))\n",
    "    \n",
    "    logits = tf.matmul(l4, W5) + b5\n",
    "    \n",
    "    return logits "
   ]
  },
  {
   "cell_type": "markdown",
   "metadata": {},
   "source": [
    "<h1>Cost and optimization</h1>"
   ]
  },
  {
   "cell_type": "code",
   "execution_count": 47,
   "metadata": {},
   "outputs": [],
   "source": [
    "logits = lenet5(x)\n",
    "\n",
    "#define loss\n",
    "cost = tf.reduce_mean(tf.nn.softmax_cross_entropy_with_logits_v2(logits=logits,labels=y),name='loss')\n",
    "\n",
    "#define optimizer\n",
    "optimizer = tf.train.GradientDescentOptimizer(learning_rate=lr)\n",
    "train_op = optimizer.minimize(cost)\n",
    "\n",
    "corr_pred = tf.equal(tf.argmax(logits, 1), tf.argmax(y, 1))\n",
    "acc = tf.reduce_mean(tf.cast(corr_pred, tf.float32))\n",
    "\n",
    "\n",
    "def get_stats(session, cost, accuracy, b_feat, b_labels, v_feat, v_labels):\n",
    "    loss = sess.run(cost,\n",
    "                   feed_dict={\n",
    "                       x: b_feat,\n",
    "                       y: b_labels, \n",
    "                   })\n",
    "    \n",
    "    acc = sess.run(accuracy, \n",
    "                  feed_dict={\n",
    "                      x: v_feat,\n",
    "                      y: v_labels,\n",
    "                  })\n",
    "    \n",
    "    print('Loss: {:>10.4f} Validation Accuracy: {:.6f}'.format(loss, acc))"
   ]
  },
  {
   "cell_type": "markdown",
   "metadata": {},
   "source": [
    "<h1>Training, validating, testing</h1>\n",
    "<h2>1. Print out validation accuracy after each training epoch</h2>\n",
    "<h2>2. Print out training time on each epoch</h2>\n",
    "<h2>3. Print out testing accuracy</h2>"
   ]
  },
  {
   "cell_type": "code",
   "execution_count": 48,
   "metadata": {},
   "outputs": [
    {
     "name": "stdout",
     "output_type": "stream",
     "text": [
      "Epoch  1, MNIST Batch 0:  Loss:     0.5409 Validation Accuracy: 0.817400\n",
      "Epoch  2, MNIST Batch 1:  Loss:     0.2929 Validation Accuracy: 0.900600\n",
      "Epoch  3, MNIST Batch 2:  Loss:     0.2582 Validation Accuracy: 0.930600\n",
      "Epoch  4, MNIST Batch 3:  Loss:     0.2489 Validation Accuracy: 0.945000\n",
      "Epoch  5, MNIST Batch 4:  Loss:     0.2487 Validation Accuracy: 0.952800\n",
      "Epoch  6, MNIST Batch 5:  Loss:     0.2501 Validation Accuracy: 0.960200\n",
      "Epoch  7, MNIST Batch 6:  Loss:     0.2520 Validation Accuracy: 0.964600\n",
      "Epoch  8, MNIST Batch 7:  Loss:     0.2508 Validation Accuracy: 0.968600\n",
      "Epoch  9, MNIST Batch 8:  Loss:     0.2488 Validation Accuracy: 0.971000\n",
      "Epoch 10, MNIST Batch 9:  Loss:     0.2472 Validation Accuracy: 0.972400\n"
     ]
    }
   ],
   "source": [
    "#Initialize the variables\n",
    "init = tf.global_variables_initializer()\n",
    "\n",
    "with tf.Session() as sess:\n",
    "    sess.run(init)\n",
    "    \n",
    "    for i in range(epochs):\n",
    "        \n",
    "        #fetch batch\n",
    "        for j in range(0, len(x_train), batch_size):\n",
    "            k = j + batch_size\n",
    "            batch_x, batch_y = x_train[j:k], y_train[j:k]\n",
    "            sess.run(train_op, feed_dict={x:batch_x, y:batch_y})\n",
    "        \n",
    "        print('Epoch {:>2}, MNIST Batch {}:  '.format(i + 1, i), end='')\n",
    "        get_stats(sess, cost, acc, batch_x, batch_y, x_validation, y_validation)"
   ]
  },
  {
   "cell_type": "code",
   "execution_count": null,
   "metadata": {},
   "outputs": [],
   "source": []
  }
 ],
 "metadata": {
  "kernelspec": {
   "display_name": "Python 3",
   "language": "python",
   "name": "python3"
  },
  "language_info": {
   "codemirror_mode": {
    "name": "ipython",
    "version": 3
   },
   "file_extension": ".py",
   "mimetype": "text/x-python",
   "name": "python",
   "nbconvert_exporter": "python",
   "pygments_lexer": "ipython3",
   "version": "3.7.2"
  }
 },
 "nbformat": 4,
 "nbformat_minor": 2
}
