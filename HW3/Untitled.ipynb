{
 "cells": [
  {
   "cell_type": "code",
   "execution_count": 20,
   "metadata": {},
   "outputs": [],
   "source": [
    "import codecs\n",
    "import os\n",
    "import collections\n",
    "from six.moves import cPickle\n",
    "import numpy as np\n",
    "import io"
   ]
  },
  {
   "cell_type": "markdown",
   "metadata": {},
   "source": [
    "Implement a class object that should have the following functions:\n",
    "\n",
    "1) object initialization:\n",
    "This function should be able to take arguments of data directory, batch size and sequence length.\n",
    "The initialization should be able to process data, load preprocessed data and create training and \n",
    "validation mini batches.\n",
    "\n",
    "2)helper function to preprocess the text data:\n",
    "This function should be able to do:\n",
    "    a)read the txt input data using encoding='utf-8'\n",
    "    b)\n",
    "        b1)create self.char that is a tuple contains all unique character appeared in the txt input.\n",
    "        b2)create self.vocab_size that is the number of unique character appeared in the txt input.\n",
    "        b3)create self.vocab that is a dictionary that the key is every unique character and its value is a unique integer label.\n",
    "    c)split training and validation data.\n",
    "    d)save your self.char as pickle (pkl) file that you may use later.\n",
    "    d)map all characters of training and validation data to their integer label and save as 'npy' files respectively.\n",
    "\n",
    "3)helper function to load preprocessed data\n",
    "\n",
    "4)helper functions to create training and validation mini batches"
   ]
  },
  {
   "cell_type": "code",
   "execution_count": 28,
   "metadata": {},
   "outputs": [],
   "source": [
    "#### Load Data ####\n",
    "filename='shakespeare.txt'\n",
    "batch_size = 10\n",
    "seq_len = 40\n",
    "window = 3\n",
    "\n",
    "text = io.open(filename, encoding='utf-8').read().lower()\n",
    "\n",
    "chars = sorted(list(set(text)))\n",
    "char_indices = dict((c,i) for i, c in enumerate(chars))\n",
    "indices_char = dict((i,c) for i, c in enumerate(chars))"
   ]
  },
  {
   "cell_type": "code",
   "execution_count": 29,
   "metadata": {},
   "outputs": [],
   "source": [
    "#### Create training data ####\n",
    "def gen_data_set(text, batch_size, seq_len, window):\n",
    "\n",
    "    X, Y = [], []\n",
    "\n",
    "    for i in range(0, len(text)-seq_len, window):\n",
    "        X.append(text[i: i + seq_len])\n",
    "        Y.append(text[i + seq_len])\n",
    "        \n",
    "    print('number of training examples:', len(X))\n",
    "    \n",
    "    return X, Y\n",
    "\n"
   ]
  },
  {
   "cell_type": "code",
   "execution_count": 31,
   "metadata": {},
   "outputs": [
    {
     "name": "stdout",
     "output_type": "stream",
     "text": [
      "number of training examples: 1524433\n"
     ]
    }
   ],
   "source": [
    "X, Y = gen_data_set(text, batch_size, seq_len, window)"
   ]
  },
  {
   "cell_type": "code",
   "execution_count": 32,
   "metadata": {},
   "outputs": [
    {
     "name": "stdout",
     "output_type": "stream",
     "text": [
      "['st citizen:\\nbefore we proceed any furthe', 'citizen:\\nbefore we proceed any further, ', 'izen:\\nbefore we proceed any further, hea', 'n:\\nbefore we proceed any further, hear m', 'before we proceed any further, hear me s', 'ore we proceed any further, hear me spea', ' we proceed any further, hear me speak.\\n', ' proceed any further, hear me speak.\\n\\nal', 'oceed any further, hear me speak.\\n\\nall:\\n']\n"
     ]
    }
   ],
   "source": [
    "print(X[1:10])"
   ]
  },
  {
   "cell_type": "code",
   "execution_count": null,
   "metadata": {},
   "outputs": [],
   "source": []
  }
 ],
 "metadata": {
  "kernelspec": {
   "display_name": "Python 3",
   "language": "python",
   "name": "python3"
  },
  "language_info": {
   "codemirror_mode": {
    "name": "ipython",
    "version": 3
   },
   "file_extension": ".py",
   "mimetype": "text/x-python",
   "name": "python",
   "nbconvert_exporter": "python",
   "pygments_lexer": "ipython3",
   "version": "3.7.2"
  }
 },
 "nbformat": 4,
 "nbformat_minor": 2
}
