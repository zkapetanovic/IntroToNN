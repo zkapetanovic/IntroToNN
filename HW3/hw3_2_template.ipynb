{
 "cells": [
  {
   "cell_type": "code",
   "execution_count": 36,
   "metadata": {},
   "outputs": [
    {
     "data": {
      "text/html": [
       "<style>.container { width:100% !important; }</style>"
      ],
      "text/plain": [
       "<IPython.core.display.HTML object>"
      ]
     },
     "metadata": {},
     "output_type": "display_data"
    }
   ],
   "source": [
    "from IPython.core.display import display, HTML\n",
    "display(HTML(\"<style>.container { width:100% !important; }</style>\"))\n",
    "\n",
    "import os\n",
    "\n",
    "os.environ['KMP_DUPLICATE_LIB_OK']='True'"
   ]
  },
  {
   "cell_type": "markdown",
   "metadata": {},
   "source": [
    "# Style Transfer\n",
    "<p style='font-size:15px'>In this notebook we will implement the style transfer technique from [\"Image Style Transfer Using Convolutional Neural Networks\" (Gatys et al., CVPR 2015)](http://www.cv-foundation.org/openaccess/content_cvpr_2016/papers/Gatys_Image_Style_Transfer_CVPR_2016_paper.pdf).\n",
    "\n",
    "<p style='font-size:15px'>The general idea is to take two images, and produce a new image that reflects the content of one but the artistic \"style\" of the other. We will do this by first formulating a loss function that matches the content and style of each respective image in the feature space of a deep network, and then performing gradient descent on the pixels of the image itself.\n",
    "\n",
    "<p style='font-size:15px'>The deep network we use as a feature extractor is VGG-16 that has been trained on ImageNet. You could use any network, but we chose VGG-16 here."
   ]
  },
  {
   "cell_type": "markdown",
   "metadata": {},
   "source": [
    "# Setup"
   ]
  },
  {
   "cell_type": "code",
   "execution_count": 37,
   "metadata": {},
   "outputs": [],
   "source": [
    "import vgg\n",
    "import tensorflow as tf\n",
    "slim = tf.contrib.slim\n",
    "import os\n",
    "from scipy.misc import imread, imresize\n",
    "import numpy as np\n",
    "import matplotlib.pyplot as plt\n",
    "from image_utils import load_image, preprocess_image, deprocess_image,VGG_MEAN\n",
    "\n",
    "%matplotlib inline\n",
    "plt.rcParams['figure.figsize'] = (10.0, 8.0) # set default size of plots\n",
    "plt.rcParams['image.interpolation'] = 'nearest'\n",
    "plt.rcParams['image.cmap'] = 'gray'\n",
    "\n",
    "def get_session():\n",
    "    \"\"\"Create a session that dynamically allocates memory.\"\"\"\n",
    "    # See: https://www.tensorflow.org/tutorials/using_gpu#allowing_gpu_memory_growth\n",
    "    config = tf.ConfigProto()\n",
    "    config.gpu_options.allow_growth = True\n",
    "    session = tf.Session(config=config)\n",
    "    return session"
   ]
  },
  {
   "cell_type": "markdown",
   "metadata": {},
   "source": [
    "# Pre-trained Model\n",
    "<p style='font-size:15px'>Load the pretrained VGG-16 model, see `vgg.py` for the model architecture. \n",
    "\n",
    "<p style='font-size:15px'>To use VGG-16, you will need to first **download the weights** by downloading `vgg_16_2016_08_28.tar.gz`. Once you unzip it, you will have the `vgg_16.ckpt` that includes all the learned parameters.\n",
    "\n",
    "<p style='font-size:15px'>Once you've downloaded the model and weights, you can run the following cell to load the model in TensorFlow. Please understand the code before you continue."
   ]
  },
  {
   "cell_type": "code",
   "execution_count": 38,
   "metadata": {},
   "outputs": [
    {
     "name": "stdout",
     "output_type": "stream",
     "text": [
      "INFO:tensorflow:Restoring parameters from vgg_16.ckpt\n"
     ]
    }
   ],
   "source": [
    "tf.reset_default_graph()\n",
    "#define input image placeholder\n",
    "X = tf.placeholder(dtype=tf.float32,shape=[None,None,None,3])\n",
    "\n",
    "#initialize vgg-16 model\n",
    "#scores: the output of last layer\n",
    "#end_points: include all layers outputs\n",
    "scores, end_points = vgg.vgg_16(inputs=X,num_classes=1000,is_training=False,dropout_keep_prob=1.)\n",
    "\n",
    "#get the variables to restore\n",
    "variables_to_restore = slim.get_variables_to_restore()\n",
    "#define saver\n",
    "saver = tf.train.Saver(variables_to_restore)\n",
    "#create the session\n",
    "sess = get_session()\n",
    "#restore the variables\n",
    "saver.restore(sess,\"vgg_16.ckpt\")"
   ]
  },
  {
   "cell_type": "markdown",
   "metadata": {},
   "source": [
    "# Part a: Computing Loss\n",
    "\n",
    "<p style='font-size:15px'>We're going to compute the three components of our loss function now. The loss function is a weighted sum of three terms: content loss + style loss + total variation loss. You'll fill in the functions that compute these weighted terms below."
   ]
  },
  {
   "cell_type": "markdown",
   "metadata": {},
   "source": [
    "## a.1: Content loss\n",
    "<p style='font-size:15px'>We can generate an image that reflects the content of one image and the style of another by incorporating both in our loss function. We want to penalize deviations from the content of the content image and deviations from the style of the style image. We can then use this hybrid loss function to perform gradient descent **not on the parameters** of the model, but instead **on the pixel values** of our original image.\n",
    "\n",
    "<p style='font-size:15px'>Let's first write the content loss function. Content loss measures how much the feature map of the generated image differs from the feature map of the source image. We only care about the content representation of one layer of the network (say, layer $\\ell$), that has feature maps $A^\\ell \\in \\mathbb{R}^{1 \\times H_\\ell \\times W_\\ell \\times C_\\ell}$. $C_\\ell$ is the number of filters/channels in layer $\\ell$, $H_\\ell$ and $W_\\ell$ are the height and width. We will work with reshaped versions of these feature maps that combine all spatial positions into one dimension. Let $F^\\ell \\in \\mathbb{R}^{M_\\ell \\times C_\\ell}$ be the feature map for the current image and $P^\\ell \\in \\mathbb{R}^{M_\\ell \\times C_\\ell}$ be the feature map for the content source image where $M_\\ell=H_\\ell\\times W_\\ell$ is the number of elements in each feature map. Each row of $F^\\ell$ or $P^\\ell$ represents the vectorized activations of a particular filter, convolved over all positions of the image. Finally, let $w_c$ be the weight of the content loss term in the loss function.\n",
    "\n",
    "<p style='font-size:15px'>Then the content loss is given by:\n",
    "\n",
    "<p style='font-size:15px'>$L_c = w_c \\times \\sum_{i,j} (F_{ij}^{\\ell} - P_{ij}^{\\ell})^2$"
   ]
  },
  {
   "cell_type": "code",
   "execution_count": 39,
   "metadata": {},
   "outputs": [],
   "source": [
    "def content_loss(content_weight, content_current, content_target):\n",
    "    \"\"\"\n",
    "    Compute the content loss for style transfer.\n",
    "    \n",
    "    Inputs:\n",
    "    - content_weight: scalar constant we multiply the content_loss by.\n",
    "    - content_current: features of the current image, Tensor with shape [1, height, width, channels]\n",
    "    - content_target: features of the content image, Tensor with shape [1, height, width, channels]\n",
    "\n",
    "    Returns:\n",
    "    - scalar content loss\n",
    "    \"\"\"\n",
    "    loss = content_weight*tf.reduce_sum(tf.pow((content_current-content_target),2))\n",
    "    return loss"
   ]
  },
  {
   "cell_type": "markdown",
   "metadata": {},
   "source": [
    "## a.2: Style loss\n",
    "<p style='font-size:15px'>Now we can tackle the style loss. For a given layer $\\ell$, the style loss is defined as follows:\n",
    "\n",
    "<p style='font-size:15px'>First, compute the Gram matrix G which represents the correlations between the responses of each filter, where F is as above. The Gram matrix is an approximation to the covariance matrix -- we want the activation statistics of our generated image to match the activation statistics of our style image, and matching the (approximate) covariance is one way to do that. There are a variety of ways you could do this, but the Gram matrix is nice because it's easy to compute and in practice shows good results.\n",
    "\n",
    "<p style='font-size:15px'>Given a feature map $F^\\ell$ of shape $(M_\\ell, C_\\ell)$, the Gram matrix has shape $(C_\\ell, C_\\ell)$ and its elements are given by:\n",
    "\n",
    "<p style='font-size:15px'>$$G_{ij}^\\ell  = \\sum_k F^{\\ell}_{ki} F^{\\ell}_{kj}$$\n",
    "\n",
    "<p style='font-size:15px'>Assuming $G^\\ell$ is the Gram matrix from the feature map of the current image, $A^\\ell$ is the Gram Matrix from the feature map of the source style image, and $w_\\ell$ a scalar weight term, then the style loss for the layer $\\ell$ is simply the weighted Euclidean distance between the two Gram matrices:\n",
    "\n",
    "<p style='font-size:15px'>$$L_s^\\ell = w_\\ell \\sum_{i, j} \\left(G^\\ell_{ij} - A^\\ell_{ij}\\right)^2$$\n",
    "\n",
    "<p style='font-size:15px'>In practice we usually compute the style loss at a set of layers $\\mathcal{L}$ rather than just a single layer $\\ell$; then the total style loss is the sum of style losses at each layer:\n",
    "\n",
    "<p style='font-size:15px'>$$L_s = \\sum_{\\ell \\in \\mathcal{L}} L_s^\\ell$$\n",
    "\n",
    "<p style='font-size:15px'>Begin by implementing the Gram matrix computation below:"
   ]
  },
  {
   "cell_type": "code",
   "execution_count": 40,
   "metadata": {},
   "outputs": [],
   "source": [
    "def gram_matrix(features, normalize=True):\n",
    "    \"\"\"\n",
    "    Compute the Gram matrix from features.\n",
    "    \n",
    "    Inputs:\n",
    "    - features: Tensor of shape (1, H, W, C) giving features for\n",
    "      a single image.\n",
    "    - normalize: optional, whether to normalize the Gram matrix\n",
    "        If True, divide the Gram matrix by the number of neurons (H * W * C)\n",
    "    \n",
    "    Returns:\n",
    "    - gram: Tensor of shape (C, C) giving the (optionally normalized)\n",
    "      Gram matrices for the input image.\n",
    "    \"\"\"\n",
    "    \n",
    "    N, H, W, C = tf.unstack(tf.shape(features))\n",
    "\n",
    "    f_l = tf.reshape(features, [H*W, C])\n",
    "    g = tf.matmul(tf.transpose(f_l),f_l)\n",
    "    \n",
    "    if normalize == True:\n",
    "        g /= tf.cast((H*W*C), tf.float32)\n",
    "    \n",
    "    return g"
   ]
  },
  {
   "cell_type": "markdown",
   "metadata": {},
   "source": [
    "Next, implement the style loss:"
   ]
  },
  {
   "cell_type": "code",
   "execution_count": 41,
   "metadata": {},
   "outputs": [],
   "source": [
    "def style_loss(feats, style_layers, style_targets, style_weights):\n",
    "    \"\"\"\n",
    "    Computes the style loss at a set of layers.\n",
    "    \n",
    "    Inputs:\n",
    "    - feats: dictionary of the features at every layer of the current image\n",
    "    - style_layers: List of layer names into feats giving the layers to include in the\n",
    "      style loss.\n",
    "    - style_targets: List of the same length as style_layers, where style_targets[i] is\n",
    "      a Tensor giving the Gram matrix of the source style image computed at\n",
    "      layer style_layers[i].\n",
    "    - style_weights: List of the same length as style_layers, where style_weights[i]\n",
    "      is a scalar giving the weight for the style loss at layer style_layers[i].\n",
    "      \n",
    "    Returns:\n",
    "    - style_loss: A Tensor containing the scalar style loss.\n",
    "    \"\"\"\n",
    "    # Hint: you can do this with one for loop over the style layers, and should\n",
    "    # not be very much code (~5 lines). You will need to use your gram_matrix function.\n",
    "    style_loss = 0\n",
    "    for i in range(len(style_layers)):\n",
    "        gram = gram_matrix(feats[style_layers[i]])\n",
    "\n",
    "        # w_l * the sum of (g-a)^2\n",
    "        style_loss += style_weights[i]*tf.reduce_sum(tf.pow(gram-style_targets[i], 2))\n",
    "\n",
    "    return style_loss"
   ]
  },
  {
   "cell_type": "markdown",
   "metadata": {},
   "source": [
    "## a.3 :Total-variation regularization\n",
    "<p style='font-size:15px'>It turns out that it's helpful to also encourage smoothness in the image. We can do this by adding another term to our loss that penalizes wiggles or \"total variation\" in the pixel values. \n",
    "\n",
    "<p style='font-size:15px'>You can compute the \"total variation\" as the sum of the squares of differences in the pixel values for all pairs of pixels that are next to each other (horizontally or vertically). Here we sum the total-variation regualarization for each of the 3 input channels (RGB), and weight the total summed loss by the total variation weight, $w_t$:\n",
    "\n",
    "<p style='font-size:15px'>$L_{tv} = w_t \\times \\left(\\sum_{c=1}^3\\sum_{i=1}^{H-1}\\sum_{j=1}^{W} (x_{i+1,j,c} - x_{i,j,c})^2 + \\sum_{c=1}^3\\sum_{i=1}^{H}\\sum_{j=1}^{W - 1} (x_{i,j+1,c} - x_{i,j,c})^2\\right)$\n",
    "\n",
    "<p style='font-size:15px'>In the next cell, fill in the definition for the TV loss term. To receive full credit, your implementation should not have any loops."
   ]
  },
  {
   "cell_type": "code",
   "execution_count": 42,
   "metadata": {},
   "outputs": [],
   "source": [
    "def tv_loss(img, tv_weight):\n",
    "    \"\"\"\n",
    "    Compute total variation loss.\n",
    "    \n",
    "    Inputs:\n",
    "    - img: Tensor of shape (1, H, W, 3) holding an input image.\n",
    "    - tv_weight: Scalar giving the weight w_t to use for the TV loss.\n",
    "    \n",
    "    Returns:\n",
    "    - loss: Tensor holding a scalar giving the total variation loss\n",
    "      for img weighted by tv_weight.\n",
    "    \"\"\"\n",
    "    # Your implementation should be vectorized and not require any loops!\n",
    "    w_var = tf.reduce_sum(tf.pow(img[:,:,:-1,:] - img[:,:,1:,:],2))\n",
    "    h_var = tf.reduce_sum(tf.pow(img[:,:-1,:,:] - img[:,1:,:,:],2))\n",
    "    \n",
    "    \n",
    "    loss = tv_weight*(w_var+h_var)\n",
    "    \n",
    "    return loss"
   ]
  },
  {
   "cell_type": "markdown",
   "metadata": {},
   "source": [
    "# Part b: Style Transfer"
   ]
  },
  {
   "cell_type": "markdown",
   "metadata": {},
   "source": [
    "<p style='font-size:15px'>Lets put it all together and make some beautiful images! The `style_transfer` function below combines all the losses you coded up above and optimizes for an image that minimizes the total loss."
   ]
  },
  {
   "cell_type": "code",
   "execution_count": 43,
   "metadata": {},
   "outputs": [],
   "source": [
    "def style_transfer(content_image, style_image,image_size, style_size, content_layer, content_weight,\n",
    "                   style_layers, style_weights, tv_weight, init_random = False):\n",
    "    \n",
    "    \"\"\"Run style transfer!\n",
    "    \n",
    "    Inputs:\n",
    "    - content_image: filename of content image\n",
    "    - style_image: filename of style image\n",
    "    - image_size: size of smallest image dimension (used for content loss and generated image)\n",
    "    - style_size: size of smallest style image dimension\n",
    "    - content_layer: layer to use for content loss\n",
    "    - content_weight: weighting on content loss\n",
    "    - style_layers: list of layers to use for style loss\n",
    "    - style_weights: list of weights to use for each layer in style_layers\n",
    "    - tv_weight: weight of total variation regularization term\n",
    "    - init_random: initialize the starting image to uniform random noise\n",
    "    \"\"\"\n",
    "    #Extract features from the content image\n",
    "    content_img = preprocess_image(load_image(content_image,size=image_size))\n",
    "    content_target = sess.run(end_points[content_layer],feed_dict={X:content_img[None]})\n",
    "    print(content_img.shape)\n",
    "    #Extract features from the style image\n",
    "    style_img = preprocess_image(load_image(style_image,size=style_size))\n",
    "    style_feat_vars = [end_points[idx] for idx in style_layers]\n",
    "    style_target_vars = []\n",
    "\n",
    "    #Compute list of TensorFlow Gram Matrices\n",
    "    for style_feat_var in style_feat_vars:\n",
    "        gm = gram_matrix(style_feat_var)\n",
    "        style_target_vars.append(gm)\n",
    "\n",
    "    #Compute list of Numpy Gram matrices by evaluating the TensorFlow graph on the style image\n",
    "    style_targets = sess.run(style_target_vars,feed_dict = {X:style_img[None]})\n",
    "\n",
    "    #Initialize generated image to content image\n",
    "    if init_random:\n",
    "        img_var = tf.Variable(tf.random_uniform(content_img[None].shape, 0.0, 255.0), name=\"image\")\n",
    "    else:\n",
    "        img_var = tf.Variable(content_img[None],name=\"image\")\n",
    "\n",
    "    #Extract features on generated image\n",
    "    _,end_points_ = vgg.vgg_16(inputs=img_var,num_classes=1000,is_training=False,dropout_keep_prob=1.,reuse=tf.AUTO_REUSE)\n",
    "    \n",
    "    #Compute loss\n",
    "    c_loss = content_loss(content_weight,end_points_[content_layer],content_target)\n",
    "    s_loss = style_loss(end_points_,style_layers,style_targets,style_weights)\n",
    "    t_loss = tv_loss(img_var,tv_weight)\n",
    "    \n",
    "    loss = c_loss + s_loss + t_loss\n",
    "    \n",
    "    \n",
    "    # Set up optimization hyperparameters\n",
    "    initial_lr = 3.0\n",
    "    decayed_lr = 0.1\n",
    "    decay_lr_at = 180\n",
    "    max_iter = 200\n",
    "\n",
    "    # Create and initialize the Adam optimizer\n",
    "    lr_var = tf.Variable(initial_lr, name=\"lr\")\n",
    "    \n",
    "    # Create train_op that updates the generated image when run\n",
    "    with tf.variable_scope(\"optimizer\") as opt_scope:\n",
    "        train_op = tf.train.AdamOptimizer(lr_var).minimize(loss, var_list=[img_var])\n",
    "    \n",
    "    # Initialize the generated image and optimization variables\n",
    "    opt_vars = tf.get_collection(tf.GraphKeys.GLOBAL_VARIABLES, scope=opt_scope.name)\n",
    "    sess.run(tf.variables_initializer([lr_var, img_var] + opt_vars))\n",
    "   \n",
    "    # Create an op that will clamp the image values when run\n",
    "    clamp_image_op = tf.assign(img_var, tf.clip_by_value(img_var, -VGG_MEAN, VGG_MEAN))\n",
    "\n",
    "    f, axarr = plt.subplots(1,2)\n",
    "    axarr[0].axis('off')\n",
    "    axarr[1].axis('off')\n",
    "    axarr[0].set_title('Content Source Img.')\n",
    "    axarr[1].set_title('Style Source Img.')\n",
    "    axarr[0].imshow(deprocess_image(content_img))\n",
    "    axarr[1].imshow(deprocess_image(style_img))\n",
    "    plt.show()\n",
    "    plt.figure()\n",
    "    \n",
    "    # Hardcoded handcrafted \n",
    "    for t in range(max_iter):\n",
    "        # Take an optimization step to update img_var\n",
    "        sess.run(train_op)\n",
    "        #print(sess.run(loss))\n",
    "        if t < decay_lr_at:\n",
    "            sess.run(clamp_image_op)\n",
    "        if t == decay_lr_at:\n",
    "            sess.run(tf.assign(lr_var, decayed_lr))\n",
    "        if t % 100 == 0:\n",
    "            print('Iteration {}'.format(t))\n",
    "            img = sess.run(img_var)\n",
    "            plt.imshow(deprocess_image(img[0]))\n",
    "            plt.axis('off')\n",
    "            plt.show()\n",
    "    print('Iteration {}'.format(t))\n",
    "    img = sess.run(img_var)        \n",
    "    plt.imshow(deprocess_image(img[0]))\n",
    "    plt.axis('off')\n",
    "    plt.show()"
   ]
  },
  {
   "cell_type": "markdown",
   "metadata": {},
   "source": [
    "## Generate some pretty pictures!\n",
    "\n",
    "Try out `style_transfer` on the three different parameter sets below. Below the next three cells of code (in which you are free to change the hyperparameters), feel free to copy and paste the parameters to play around them and see how the resulting image changes. Choose the most beautiful results you believe as final results.\n",
    "\n",
    "In addition to the provided three sets, you will choose two images on your own and create an interesting creative picture.\n",
    "\n",
    "* The `content_image` is the filename of content image.\n",
    "* The `style_image` is the filename of style image.\n",
    "* The `image_size` is the size of smallest image dimension of the content image (used for content loss and generated image).\n",
    "* The `style_size` is the size of smallest style image dimension.\n",
    "* The `content_layer` specifies which layer to use for content loss.\n",
    "* The `content_weight` gives weighting on content loss in the overall loss function. Increasing the value of this parameter will make the final image look more realistic (closer to the original content).\n",
    "* `style_layers` specifies a list of which layers to use for style loss. \n",
    "* `style_weights` specifies a list of weights to use for each layer in style_layers (each of which will contribute a term to the overall style loss). We generally use higher weights for the earlier style layers because they describe more local/smaller scale features, which are more important to texture than features over larger receptive fields. In general, increasing these weights will make the resulting image look less like the original content and more distorted towards the appearance of the style image.\n",
    "* `tv_weight` specifies the weighting of total variation regularization in the overall loss function. Increasing this value makes the resulting image look smoother and less jagged, at the cost of lower fidelity to style and content. "
   ]
  },
  {
   "cell_type": "code",
   "execution_count": null,
   "metadata": {
    "scrolled": false
   },
   "outputs": [],
   "source": [
    "#Composition VII + Tubingen (feel free to change the hyper-parameters)\n",
    "params1 = {'content_image': 'styles/tubingen.jpg',\n",
    "            'style_image' : 'styles/composition_vii.jpg',\n",
    "            'image_size':224, \n",
    "            'style_size':224,\n",
    "            'content_layer' : 'vgg_16/conv2/conv2_1',\n",
    "            'content_weight' :5e-2, \n",
    "            'style_layers' : ['vgg_16/conv1/conv1_1',\n",
    "                 'vgg_16/conv2/conv2_1', \n",
    "                      'vgg_16/conv3/conv3_2', \n",
    "                'vgg_16/conv4/conv4_1'],\n",
    "            'style_weights' : (20000,500,120,100),\n",
    "            'tv_weight': 5e-2}\n",
    "\n",
    "style_transfer(**params1)"
   ]
  },
  {
   "cell_type": "code",
   "execution_count": null,
   "metadata": {
    "scrolled": false
   },
   "outputs": [],
   "source": [
    "# Scream + Tubingen (feel free to change the hyper-parameters)\n",
    "params2 = {\n",
    "    'content_image':'styles/tubingen.jpg',\n",
    "    'style_image':'styles/the_scream.jpg',\n",
    "     'image_size':224, \n",
    "     'style_size':224,\n",
    "    'content_layer':'vgg_16/conv3/conv3_1',\n",
    "    'content_weight':1,\n",
    "    'style_layers' : ['vgg_16/conv1/conv1_1',\n",
    "                'vgg_16/conv2/conv2_1',\n",
    "                     'vgg_16/conv3/conv3_1', \n",
    "                'vgg_16/conv4/conv4_1'], \n",
    "    'style_weights':[2000, 800, 12000, 1000],\n",
    "    'tv_weight':10,\n",
    "}\n",
    "\n",
    "style_transfer(**params2)"
   ]
  },
  {
   "cell_type": "code",
   "execution_count": null,
   "metadata": {},
   "outputs": [],
   "source": [
    "# Starry Night + Tubingen (feel free to change the hyper-parameters)\n",
    "params3 = {\n",
    "    'content_image' : 'styles/tubingen.jpg',\n",
    "    'style_image' : 'styles/starry_night.jpg',\n",
    "    'image_size' : 224,\n",
    "    'style_size' : 224,\n",
    "    'content_layer':'vgg_16/conv3/conv3_1',\n",
    "    'content_weight':5e-2,\n",
    "    'style_layers' : ['vgg_16/conv1/conv1_1', 'vgg_16/conv1/conv1_2',\n",
    "                'vgg_16/conv2/conv2_2', 'vgg_16/conv2/conv2_2', \n",
    "                     'vgg_16/conv3/conv3_3', 'vgg_16/conv3/conv3_2', 'vgg_16/conv3/conv3_3', \n",
    "                'vgg_16/conv4/conv4_1','vgg_16/conv4/conv4_2', 'vgg_16/conv4/conv4_3', \n",
    "                'vgg_16/conv5/conv5_1', 'vgg_16/conv5/conv5_2', 'vgg_16/conv5/conv5_3'],\n",
    "    'style_weights' : [10000,10000,5000,5000,10000,10000,10000,10000,10000,10000,5000,10000,10000],\n",
    "    'tv_weight' : 10\n",
    "}\n",
    "\n",
    "style_transfer(**params3)"
   ]
  },
  {
   "cell_type": "code",
   "execution_count": null,
   "metadata": {},
   "outputs": [],
   "source": [
    "#Your own pictures\n"
   ]
  },
  {
   "cell_type": "markdown",
   "metadata": {},
   "source": [
    "## Feature Inversion\n",
    "\n",
    "The code you've written can do another cool thing. In an attempt to understand the types of features that convolutional networks learn to recognize, a recent paper [1] attempts to reconstruct an image from its feature representation. We can easily implement this idea using image gradients from the pretrained network, which is exactly what we did above (but with two different feature representations).\n",
    "\n",
    "Now, if you set the style weights to all be 0 and initialize the starting image to random noise instead of the content source image, you'll reconstruct an image from the feature representation of the content source image. You're starting with total noise, but you should end up with something that looks quite a bit like your original image.\n",
    "\n",
    "(Similarly, you could do \"texture synthesis\" from scratch if you set the content weight to 0 and initialize the starting image to random noise, but we won't ask you to do that here.) \n",
    "\n",
    "Run the following cell to try out feature inversion.\n",
    "\n",
    "[1] Aravindh Mahendran, Andrea Vedaldi, \"Understanding Deep Image Representations by Inverting them\", CVPR 2015\n"
   ]
  },
  {
   "cell_type": "code",
   "execution_count": null,
   "metadata": {
    "scrolled": false
   },
   "outputs": [],
   "source": [
    "# Feature Inversion -- Starry Night + Tubingen\n",
    "params_inv = {\n",
    "    'content_image' : 'styles/tubingen.jpg',\n",
    "    'style_image' : 'styles/starry_night.jpg',\n",
    "    'image_size' : 224,\n",
    "    'style_size' : 224,\n",
    "    'content_layer' : 'vgg_16/conv1/conv1_1',\n",
    "    'content_weight' : 5e-2,\n",
    "    'style_layers' : ['vgg_16/conv1/conv1_1',\n",
    "                'vgg_16/conv2/conv2_1',\n",
    "                     'vgg_16/conv3/conv3_1', \n",
    "                'vgg_16/conv4/conv4_1'],\n",
    "    'style_weights' : [0, 0, 0, 0], # we discard any contributions from style to the loss\n",
    "    'tv_weight' : 2e-2,\n",
    "    'init_random': True # we want to initialize our image to be random\n",
    "}\n",
    "\n",
    "style_transfer(**params_inv)"
   ]
  },
  {
   "cell_type": "code",
   "execution_count": null,
   "metadata": {},
   "outputs": [],
   "source": []
  }
 ],
 "metadata": {
  "kernelspec": {
   "display_name": "Python 3",
   "language": "python",
   "name": "python3"
  },
  "language_info": {
   "codemirror_mode": {
    "name": "ipython",
    "version": 3
   },
   "file_extension": ".py",
   "mimetype": "text/x-python",
   "name": "python",
   "nbconvert_exporter": "python",
   "pygments_lexer": "ipython3",
   "version": "3.7.2"
  }
 },
 "nbformat": 4,
 "nbformat_minor": 2
}
